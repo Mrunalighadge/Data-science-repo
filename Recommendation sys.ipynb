{
 "cells": [
  {
   "cell_type": "code",
   "execution_count": 59,
   "id": "a652a1b3-8526-4fad-a07e-958d1d7e84df",
   "metadata": {},
   "outputs": [],
   "source": [
    "import pandas as pd"
   ]
  },
  {
   "cell_type": "code",
   "execution_count": 60,
   "id": "ac32c129-a580-49f2-a24b-51b34ab51e24",
   "metadata": {},
   "outputs": [],
   "source": [
    "anime_data=pd.read_csv('C:/Users/DELL/OneDrive/Documents/data science asignments/Recommendation System/Recommendation System/anime.csv')"
   ]
  },
  {
   "cell_type": "code",
   "execution_count": 61,
   "id": "f2df6847-a312-41f8-8a0e-28896165bbb6",
   "metadata": {},
   "outputs": [
    {
     "name": "stdout",
     "output_type": "stream",
     "text": [
      "Missing Values in Each Column:\n",
      "anime_id      0\n",
      "name          0\n",
      "genre        62\n",
      "type         25\n",
      "episodes      0\n",
      "rating      230\n",
      "members       0\n",
      "dtype: int64\n"
     ]
    }
   ],
   "source": [
    "import pandas as pd\n",
    "\n",
    "\n",
    "# Check for missing values\n",
    "missing_values = anime_data.isnull().sum()\n",
    "\n",
    "# Display missing values\n",
    "print(\"Missing Values in Each Column:\")\n",
    "print(missing_values)\n",
    "\n"
   ]
  },
  {
   "cell_type": "code",
   "execution_count": 62,
   "id": "eed054f3-b2be-487d-84b8-998516f6f311",
   "metadata": {},
   "outputs": [
    {
     "name": "stdout",
     "output_type": "stream",
     "text": [
      "Remaining Missing Values in Each Column:\n",
      "anime_id    0\n",
      "name        0\n",
      "genre       0\n",
      "type        0\n",
      "episodes    0\n",
      "rating      0\n",
      "members     0\n",
      "dtype: int64\n"
     ]
    }
   ],
   "source": [
    "import pandas as pd\n",
    "\n",
    "\n",
    "# Fill missing values for 'genre' with 'Unknown'\n",
    "anime_data['genre'] = anime_data['genre'].fillna('Unknown')\n",
    "\n",
    "# Fill missing values for 'type' with 'Unknown'\n",
    "anime_data['type'] = anime_data['type'].fillna('Unknown')\n",
    "\n",
    "# Fill missing values for 'rating' with median\n",
    "anime_data['rating'] = anime_data['rating'].fillna(anime_data['rating'].median())\n",
    "\n",
    "# Check if there are any remaining missing values\n",
    "remaining_missing_values = anime_data.isnull().sum()\n",
    "print(\"Remaining Missing Values in Each Column:\")\n",
    "print(remaining_missing_values)"
   ]
  },
  {
   "cell_type": "markdown",
   "id": "8b617a3d-aebf-4388-acbd-61f9e6a5a29e",
   "metadata": {},
   "source": [
    "Feature Extraction:\n",
    "\n"
   ]
  },
  {
   "cell_type": "markdown",
   "id": "d9acf94f-ffb1-4083-b71b-09c65c2e8a1f",
   "metadata": {},
   "source": [
    "anime_dat=pd.read_csv('C:/Users/DELL/OneDrive/Documents/data science asignments/Recommendation System/Recommendation System/anime.csv')"
   ]
  },
  {
   "cell_type": "code",
   "execution_count": 63,
   "id": "845e0db5-0dcb-463a-8dbd-9f7a446d5e07",
   "metadata": {},
   "outputs": [
    {
     "data": {
      "text/html": [
       "<div>\n",
       "<style scoped>\n",
       "    .dataframe tbody tr th:only-of-type {\n",
       "        vertical-align: middle;\n",
       "    }\n",
       "\n",
       "    .dataframe tbody tr th {\n",
       "        vertical-align: top;\n",
       "    }\n",
       "\n",
       "    .dataframe thead th {\n",
       "        text-align: right;\n",
       "    }\n",
       "</style>\n",
       "<table border=\"1\" class=\"dataframe\">\n",
       "  <thead>\n",
       "    <tr style=\"text-align: right;\">\n",
       "      <th></th>\n",
       "      <th>anime_id</th>\n",
       "      <th>rating</th>\n",
       "      <th>members</th>\n",
       "    </tr>\n",
       "  </thead>\n",
       "  <tbody>\n",
       "    <tr>\n",
       "      <th>count</th>\n",
       "      <td>12294.000000</td>\n",
       "      <td>12294.000000</td>\n",
       "      <td>1.229400e+04</td>\n",
       "    </tr>\n",
       "    <tr>\n",
       "      <th>mean</th>\n",
       "      <td>14058.221653</td>\n",
       "      <td>6.475700</td>\n",
       "      <td>1.807134e+04</td>\n",
       "    </tr>\n",
       "    <tr>\n",
       "      <th>std</th>\n",
       "      <td>11455.294701</td>\n",
       "      <td>1.017179</td>\n",
       "      <td>5.482068e+04</td>\n",
       "    </tr>\n",
       "    <tr>\n",
       "      <th>min</th>\n",
       "      <td>1.000000</td>\n",
       "      <td>1.670000</td>\n",
       "      <td>5.000000e+00</td>\n",
       "    </tr>\n",
       "    <tr>\n",
       "      <th>25%</th>\n",
       "      <td>3484.250000</td>\n",
       "      <td>5.900000</td>\n",
       "      <td>2.250000e+02</td>\n",
       "    </tr>\n",
       "    <tr>\n",
       "      <th>50%</th>\n",
       "      <td>10260.500000</td>\n",
       "      <td>6.570000</td>\n",
       "      <td>1.550000e+03</td>\n",
       "    </tr>\n",
       "    <tr>\n",
       "      <th>75%</th>\n",
       "      <td>24794.500000</td>\n",
       "      <td>7.170000</td>\n",
       "      <td>9.437000e+03</td>\n",
       "    </tr>\n",
       "    <tr>\n",
       "      <th>max</th>\n",
       "      <td>34527.000000</td>\n",
       "      <td>10.000000</td>\n",
       "      <td>1.013917e+06</td>\n",
       "    </tr>\n",
       "  </tbody>\n",
       "</table>\n",
       "</div>"
      ],
      "text/plain": [
       "           anime_id        rating       members\n",
       "count  12294.000000  12294.000000  1.229400e+04\n",
       "mean   14058.221653      6.475700  1.807134e+04\n",
       "std    11455.294701      1.017179  5.482068e+04\n",
       "min        1.000000      1.670000  5.000000e+00\n",
       "25%     3484.250000      5.900000  2.250000e+02\n",
       "50%    10260.500000      6.570000  1.550000e+03\n",
       "75%    24794.500000      7.170000  9.437000e+03\n",
       "max    34527.000000     10.000000  1.013917e+06"
      ]
     },
     "execution_count": 63,
     "metadata": {},
     "output_type": "execute_result"
    }
   ],
   "source": [
    "anime_data.describe()"
   ]
  },
  {
   "cell_type": "code",
   "execution_count": 64,
   "id": "211de03b-b557-4cb4-96ea-8a6c31c685fd",
   "metadata": {},
   "outputs": [
    {
     "name": "stdout",
     "output_type": "stream",
     "text": [
      "<class 'pandas.core.frame.DataFrame'>\n",
      "RangeIndex: 12294 entries, 0 to 12293\n",
      "Data columns (total 7 columns):\n",
      " #   Column    Non-Null Count  Dtype  \n",
      "---  ------    --------------  -----  \n",
      " 0   anime_id  12294 non-null  int64  \n",
      " 1   name      12294 non-null  object \n",
      " 2   genre     12294 non-null  object \n",
      " 3   type      12294 non-null  object \n",
      " 4   episodes  12294 non-null  object \n",
      " 5   rating    12294 non-null  float64\n",
      " 6   members   12294 non-null  int64  \n",
      "dtypes: float64(1), int64(2), object(4)\n",
      "memory usage: 672.5+ KB\n"
     ]
    }
   ],
   "source": [
    "anime_data.info()"
   ]
  },
  {
   "cell_type": "code",
   "execution_count": 65,
   "id": "48f6b235-57db-42f3-b62d-3e0ab467892c",
   "metadata": {},
   "outputs": [
    {
     "data": {
      "text/plain": [
       "Index(['anime_id', 'name', 'genre', 'type', 'episodes', 'rating', 'members'], dtype='object')"
      ]
     },
     "execution_count": 65,
     "metadata": {},
     "output_type": "execute_result"
    }
   ],
   "source": [
    "anime_data.columns"
   ]
  },
  {
   "cell_type": "code",
   "execution_count": 66,
   "id": "66e640db-9f29-4b78-ab91-50ea158eaf1f",
   "metadata": {},
   "outputs": [
    {
     "data": {
      "text/plain": [
       "anime_id    0\n",
       "name        0\n",
       "genre       0\n",
       "type        0\n",
       "episodes    0\n",
       "rating      0\n",
       "members     0\n",
       "dtype: int64"
      ]
     },
     "execution_count": 66,
     "metadata": {},
     "output_type": "execute_result"
    }
   ],
   "source": [
    "anime_data.isnull().sum()"
   ]
  },
  {
   "cell_type": "code",
   "execution_count": 67,
   "id": "7b9f0de4-30d6-416c-a7f0-303d7eb117a9",
   "metadata": {},
   "outputs": [
    {
     "name": "stdout",
     "output_type": "stream",
     "text": [
      "NaN values after converting episodes:\n",
      "340\n",
      "   anime_id                              name  \\\n",
      "0     32281                    Kimi no Na wa.   \n",
      "1      5114  Fullmetal Alchemist: Brotherhood   \n",
      "2     28977                          Gintama°   \n",
      "3      9253                       Steins;Gate   \n",
      "4      9969                     Gintama&#039;   \n",
      "\n",
      "                                               genre   type  episodes  \\\n",
      "0               Drama, Romance, School, Supernatural  Movie  0.000000   \n",
      "1  Action, Adventure, Drama, Fantasy, Magic, Mili...     TV  0.034673   \n",
      "2  Action, Comedy, Historical, Parody, Samurai, S...     TV  0.027518   \n",
      "3                                   Sci-Fi, Thriller     TV  0.012658   \n",
      "4  Action, Comedy, Historical, Parody, Samurai, S...     TV  0.027518   \n",
      "\n",
      "     rating   members  \n",
      "0  0.924370  0.197872  \n",
      "1  0.911164  0.782770  \n",
      "2  0.909964  0.112689  \n",
      "3  0.900360  0.664325  \n",
      "4  0.899160  0.149186  \n"
     ]
    }
   ],
   "source": [
    "import pandas as pd\n",
    "from sklearn.preprocessing import MinMaxScaler\n",
    "\n",
    "\n",
    "# Convert 'episodes' to numeric, coercing errors to NaN\n",
    "anime_data['episodes'] = pd.to_numeric(anime_data['episodes'], errors='coerce')\n",
    "\n",
    "# Check for any NaN values after conversion\n",
    "print(\"NaN values after converting episodes:\")\n",
    "print(anime_data['episodes'].isnull().sum())\n",
    "\n",
    "# Fill NaN values in 'episodes' with the median\n",
    "anime_data['episodes'] = anime_data['episodes'].fillna(anime_data['episodes'].median())\n",
    "\n",
    "# Identify numerical features for normalization\n",
    "numerical_features = ['rating', 'members', 'episodes']\n",
    "\n",
    "# Initialize MinMaxScaler\n",
    "scaler = MinMaxScaler()\n",
    "\n",
    "# Normalize the numerical features\n",
    "anime_data[numerical_features] = scaler.fit_transform(anime_data[numerical_features])\n",
    "\n",
    "# Display the transformed dataset\n",
    "print(anime_data.head())"
   ]
  },
  {
   "cell_type": "markdown",
   "id": "f67d0c43-b9b7-4d99-aca6-1e56ec5ab3bd",
   "metadata": {},
   "source": [
    "Normalizing the numerical columns:"
   ]
  },
  {
   "cell_type": "code",
   "execution_count": 68,
   "id": "2209bea5-b4a3-490e-9332-74c2cb1235d3",
   "metadata": {},
   "outputs": [
    {
     "name": "stdout",
     "output_type": "stream",
     "text": [
      "   anime_id                              name  \\\n",
      "0     32281                    Kimi no Na wa.   \n",
      "1      5114  Fullmetal Alchemist: Brotherhood   \n",
      "2     28977                          Gintama°   \n",
      "3      9253                       Steins;Gate   \n",
      "4      9969                     Gintama&#039;   \n",
      "\n",
      "                                               genre   type  episodes  \\\n",
      "0               Drama, Romance, School, Supernatural  Movie  0.000000   \n",
      "1  Action, Adventure, Drama, Fantasy, Magic, Mili...     TV  0.034673   \n",
      "2  Action, Comedy, Historical, Parody, Samurai, S...     TV  0.027518   \n",
      "3                                   Sci-Fi, Thriller     TV  0.012658   \n",
      "4  Action, Comedy, Historical, Parody, Samurai, S...     TV  0.027518   \n",
      "\n",
      "     rating   members  \n",
      "0  0.924370  0.197872  \n",
      "1  0.911164  0.782770  \n",
      "2  0.909964  0.112689  \n",
      "3  0.900360  0.664325  \n",
      "4  0.899160  0.149186  \n"
     ]
    }
   ],
   "source": [
    "import pandas as pd\n",
    "from sklearn.preprocessing import MinMaxScaler\n",
    "\n",
    "\n",
    "# Convert 'episodes' to numeric, coercing errors to NaN\n",
    "anime_data['episodes'] = pd.to_numeric(anime_data['episodes'], errors='coerce')\n",
    "\n",
    "# Fill NaN values in 'episodes' with the median\n",
    "anime_data['episodes'] = anime_data['episodes'].fillna(anime_data['episodes'].median())\n",
    "\n",
    "# Identify numerical features for normalization\n",
    "numerical_features = ['rating', 'members', 'episodes']\n",
    "\n",
    "# Initialize MinMaxScaler\n",
    "scaler = MinMaxScaler()\n",
    "\n",
    "# Normalize the numerical features\n",
    "anime_data[numerical_features] = scaler.fit_transform(anime_data[numerical_features])\n",
    "\n",
    "# Display the transformed dataset\n",
    "print(anime_data.head())"
   ]
  },
  {
   "cell_type": "code",
   "execution_count": 69,
   "id": "072a75ed-c308-435f-a986-2e0b1c89b1ee",
   "metadata": {},
   "outputs": [
    {
     "name": "stdout",
     "output_type": "stream",
     "text": [
      "<class 'pandas.core.frame.DataFrame'>\n",
      "RangeIndex: 12294 entries, 0 to 12293\n",
      "Data columns (total 7 columns):\n",
      " #   Column    Non-Null Count  Dtype  \n",
      "---  ------    --------------  -----  \n",
      " 0   anime_id  12294 non-null  int64  \n",
      " 1   name      12294 non-null  object \n",
      " 2   genre     12294 non-null  object \n",
      " 3   type      12294 non-null  object \n",
      " 4   episodes  12294 non-null  float64\n",
      " 5   rating    12294 non-null  float64\n",
      " 6   members   12294 non-null  float64\n",
      "dtypes: float64(3), int64(1), object(3)\n",
      "memory usage: 672.5+ KB\n"
     ]
    },
    {
     "data": {
      "text/plain": [
       "(12294, 7)"
      ]
     },
     "execution_count": 69,
     "metadata": {},
     "output_type": "execute_result"
    }
   ],
   "source": [
    "anime_data.describe()\n",
    "anime_data.info()\n",
    "anime_data.columns\n",
    "anime_data.shape\n"
   ]
  },
  {
   "cell_type": "markdown",
   "id": "31d56d7b-f232-4aa4-ae5e-0618ed6489de",
   "metadata": {},
   "source": [
    "1. Prepare the Data\n",
    "Assuming you have already normalized the numerical features (rating, members, episodes) and have one-hot encoded genre features, we will combine these into a single DataFrame for similarity computation."
   ]
  },
  {
   "cell_type": "code",
   "execution_count": 70,
   "id": "53df37d6-7d35-4d78-bada-9727059b97d4",
   "metadata": {},
   "outputs": [],
   "source": [
    "import pandas as pd\n",
    "from sklearn.preprocessing import MinMaxScaler\n",
    "from sklearn.metrics.pairwise import cosine_similarity\n",
    "\n",
    "\n",
    "# Convert 'episodes' to numeric, coercing errors to NaN\n",
    "anime_data['episodes'] = pd.to_numeric(anime_data['episodes'], errors='coerce')\n",
    "\n",
    "# Fill NaN values in 'episodes' with the median\n",
    "anime_data['episodes'] = anime_data['episodes'].fillna(anime_data['episodes'].median())\n",
    "\n",
    "# Normalize numerical features\n",
    "numerical_features = ['rating', 'members', 'episodes']\n",
    "scaler = MinMaxScaler()\n",
    "anime_data[numerical_features] = scaler.fit_transform(anime_data[numerical_features])\n",
    "\n",
    "# Combine numerical features with one-hot encoded genre columns\n",
    "features_for_similarity = anime_data[numerical_features + list(anime_data.columns[5:-7])]"
   ]
  },
  {
   "cell_type": "markdown",
   "id": "680c2c81-39ec-47c4-bd28-002af29b324e",
   "metadata": {},
   "source": [
    "Compute Cosine Similarity\n",
    "Now we will compute the cosine similarity matrix for the prepared features."
   ]
  },
  {
   "cell_type": "code",
   "execution_count": 71,
   "id": "968634a6-8e2c-4d34-aa6b-b36b4b49e668",
   "metadata": {},
   "outputs": [],
   "source": [
    "# Compute cosine similarity matrix\n",
    "similarity_matrix = cosine_similarity(features_for_similarity)\n",
    "\n",
    "# Create a DataFrame for easier access to similarity scores\n",
    "similarity_df = pd.DataFrame(similarity_matrix, index=anime_data['name'], columns=anime_data['name'])"
   ]
  },
  {
   "cell_type": "markdown",
   "id": "2c2ea127-da7d-4493-968a-9eaef885fa32",
   "metadata": {},
   "source": [
    "Design the Recommendation Function"
   ]
  },
  {
   "cell_type": "code",
   "execution_count": 72,
   "id": "b17e67a3-32db-40a0-a7fb-e85517844bf7",
   "metadata": {},
   "outputs": [
    {
     "name": "stdout",
     "output_type": "stream",
     "text": [
      "name\n",
      "Bleach Movie 1: Memories of Nobody       0.999995\n",
      "Evangelion: 2.0 You Can (Not) Advance    0.999992\n",
      "Hotaru no Haka                           0.999983\n",
      "Paprika                                  0.999977\n",
      "Full Metal Panic? Fumoffu                0.999971\n",
      "Kimi ni Todoke 2nd Season                0.999967\n",
      "Saenai Heroine no Sodatekata             0.999965\n",
      "Bokura wa Minna Kawaisou                 0.999964\n",
      "Nekomonogatari: Kuro                     0.999963\n",
      "Ajin                                     0.999959\n",
      "Name: Kimi no Na wa., dtype: float64\n"
     ]
    }
   ],
   "source": [
    "def recommend_anime(target_anime, threshold=0.5):\n",
    "    if target_anime not in similarity_df.index:\n",
    "        return f\"{target_anime} not found in the dataset.\"\n",
    "    \n",
    "    # Get similarity scores for the target anime\n",
    "    similar_scores = similarity_df[target_anime]\n",
    "    \n",
    "    # Filter by threshold and sort by score\n",
    "    recommendations = similar_scores[similar_scores > threshold].sort_values(ascending=False)\n",
    "    \n",
    "    # Exclude the target anime itself from recommendations\n",
    "    recommendations = recommendations[recommendations.index != target_anime]\n",
    "    \n",
    "    return recommendations.head(10)  # Return top 10 recommendations\n",
    "\n",
    "# Example usage:\n",
    "print(recommend_anime(\"Kimi no Na wa.\", threshold=0.5))"
   ]
  },
  {
   "cell_type": "code",
   "execution_count": 73,
   "id": "87a77a0d-8c09-476e-986b-3f9acf0032fe",
   "metadata": {},
   "outputs": [
    {
     "name": "stdout",
     "output_type": "stream",
     "text": [
      "Recommendations with threshold = 0.5:\n",
      "name\n",
      "Bleach Movie 1: Memories of Nobody       0.999995\n",
      "Evangelion: 2.0 You Can (Not) Advance    0.999992\n",
      "Hotaru no Haka                           0.999983\n",
      "Paprika                                  0.999977\n",
      "Full Metal Panic? Fumoffu                0.999971\n",
      "Kimi ni Todoke 2nd Season                0.999967\n",
      "Saenai Heroine no Sodatekata             0.999965\n",
      "Bokura wa Minna Kawaisou                 0.999964\n",
      "Nekomonogatari: Kuro                     0.999963\n",
      "Ajin                                     0.999959\n",
      "Name: Kimi no Na wa., dtype: float64\n",
      "\n",
      "Recommendations with threshold = 0.7:\n",
      "name\n",
      "Bleach Movie 1: Memories of Nobody       0.999995\n",
      "Evangelion: 2.0 You Can (Not) Advance    0.999992\n",
      "Hotaru no Haka                           0.999983\n",
      "Paprika                                  0.999977\n",
      "Full Metal Panic? Fumoffu                0.999971\n",
      "Kimi ni Todoke 2nd Season                0.999967\n",
      "Saenai Heroine no Sodatekata             0.999965\n",
      "Bokura wa Minna Kawaisou                 0.999964\n",
      "Nekomonogatari: Kuro                     0.999963\n",
      "Ajin                                     0.999959\n",
      "Name: Kimi no Na wa., dtype: float64\n",
      "\n",
      "Recommendations with threshold = 0.9:\n",
      "name\n",
      "Bleach Movie 1: Memories of Nobody       0.999995\n",
      "Evangelion: 2.0 You Can (Not) Advance    0.999992\n",
      "Hotaru no Haka                           0.999983\n",
      "Paprika                                  0.999977\n",
      "Full Metal Panic? Fumoffu                0.999971\n",
      "Kimi ni Todoke 2nd Season                0.999967\n",
      "Saenai Heroine no Sodatekata             0.999965\n",
      "Bokura wa Minna Kawaisou                 0.999964\n",
      "Nekomonogatari: Kuro                     0.999963\n",
      "Ajin                                     0.999959\n",
      "Name: Kimi no Na wa., dtype: float64\n"
     ]
    }
   ],
   "source": [
    "# Test with different thresholds\n",
    "print(\"Recommendations with threshold = 0.5:\")\n",
    "print(recommend_anime(\"Kimi no Na wa.\", threshold=0.5))\n",
    "\n",
    "print(\"\\nRecommendations with threshold = 0.7:\")\n",
    "print(recommend_anime(\"Kimi no Na wa.\", threshold=0.7))\n",
    "\n",
    "print(\"\\nRecommendations with threshold = 0.9:\")\n",
    "print(recommend_anime(\"Kimi no Na wa.\", threshold=0.9))"
   ]
  },
  {
   "cell_type": "markdown",
   "id": "d41aae9b-b410-4906-a778-9c9f9bd63f64",
   "metadata": {},
   "source": [
    " Experimenting with Thresholds"
   ]
  },
  {
   "cell_type": "code",
   "execution_count": 74,
   "id": "822f3af0-1a12-4ea8-ae10-3855ac2ef073",
   "metadata": {},
   "outputs": [
    {
     "name": "stdout",
     "output_type": "stream",
     "text": [
      "\n",
      "Recommendations with threshold = 0.5:\n",
      "name\n",
      "Bleach Movie 1: Memories of Nobody       0.999995\n",
      "Evangelion: 2.0 You Can (Not) Advance    0.999992\n",
      "Hotaru no Haka                           0.999983\n",
      "Paprika                                  0.999977\n",
      "Full Metal Panic? Fumoffu                0.999971\n",
      "Kimi ni Todoke 2nd Season                0.999967\n",
      "Saenai Heroine no Sodatekata             0.999965\n",
      "Bokura wa Minna Kawaisou                 0.999964\n",
      "Nekomonogatari: Kuro                     0.999963\n",
      "Ajin                                     0.999959\n",
      "Name: Kimi no Na wa., dtype: float64\n",
      "\n",
      "Recommendations with threshold = 0.7:\n",
      "name\n",
      "Bleach Movie 1: Memories of Nobody       0.999995\n",
      "Evangelion: 2.0 You Can (Not) Advance    0.999992\n",
      "Hotaru no Haka                           0.999983\n",
      "Paprika                                  0.999977\n",
      "Full Metal Panic? Fumoffu                0.999971\n",
      "Kimi ni Todoke 2nd Season                0.999967\n",
      "Saenai Heroine no Sodatekata             0.999965\n",
      "Bokura wa Minna Kawaisou                 0.999964\n",
      "Nekomonogatari: Kuro                     0.999963\n",
      "Ajin                                     0.999959\n",
      "Name: Kimi no Na wa., dtype: float64\n",
      "\n",
      "Recommendations with threshold = 0.9:\n",
      "name\n",
      "Bleach Movie 1: Memories of Nobody       0.999995\n",
      "Evangelion: 2.0 You Can (Not) Advance    0.999992\n",
      "Hotaru no Haka                           0.999983\n",
      "Paprika                                  0.999977\n",
      "Full Metal Panic? Fumoffu                0.999971\n",
      "Kimi ni Todoke 2nd Season                0.999967\n",
      "Saenai Heroine no Sodatekata             0.999965\n",
      "Bokura wa Minna Kawaisou                 0.999964\n",
      "Nekomonogatari: Kuro                     0.999963\n",
      "Ajin                                     0.999959\n",
      "Name: Kimi no Na wa., dtype: float64\n"
     ]
    }
   ],
   "source": [
    "# Function to recommend anime based on cosine similarity with adjustable threshold\n",
    "def recommend_anime(target_anime, threshold=0.5):\n",
    "    if target_anime not in similarity_df.index:\n",
    "        return f\"{target_anime} not found in the dataset.\"\n",
    "    \n",
    "    # Get similarity scores for the target anime\n",
    "    similar_scores = similarity_df[target_anime]\n",
    "    \n",
    "    # Filter by threshold and sort by score\n",
    "    recommendations = similar_scores[similar_scores > threshold].sort_values(ascending=False)\n",
    "    \n",
    "    # Exclude the target anime itself from recommendations\n",
    "    recommendations = recommendations[recommendations.index != target_anime]\n",
    "    \n",
    "    return recommendations.head(10)  # Return top 10 recommendations\n",
    "\n",
    "# Test with different thresholds\n",
    "thresholds = [0.5, 0.7, 0.9]\n",
    "\n",
    "for t in thresholds:\n",
    "    print(f\"\\nRecommendations with threshold = {t}:\")\n",
    "    print(recommend_anime(\"Kimi no Na wa.\", threshold=t))"
   ]
  },
  {
   "cell_type": "markdown",
   "id": "fc9ff14c-3013-4fba-819d-05b12a4642ae",
   "metadata": {},
   "source": [
    "Explanation of the Code\n",
    "Function Definition: The recommend_anime function takes a target anime and a threshold value as inputs.\n",
    "Similarity Scores: It retrieves similarity scores for the specified target anime.\n",
    "Filtering: The function filters out scores below the specified threshold and sorts the results in descending order.\n",
    "Exclusion of Target Anime: The target anime itself is excluded from its own recommendation list.\n",
    "Testing Different Thresholds: A loop iterates through a list of predefined thresholds (0.5, 0.7, 0.9) and prints out the recommendations for each"
   ]
  },
  {
   "cell_type": "code",
   "execution_count": 75,
   "id": "7e4c9efd-94a9-4c59-a58c-68952709dc5c",
   "metadata": {},
   "outputs": [
    {
     "name": "stdout",
     "output_type": "stream",
     "text": [
      "<class 'pandas.core.frame.DataFrame'>\n",
      "RangeIndex: 12294 entries, 0 to 12293\n",
      "Data columns (total 7 columns):\n",
      " #   Column    Non-Null Count  Dtype  \n",
      "---  ------    --------------  -----  \n",
      " 0   anime_id  12294 non-null  int64  \n",
      " 1   name      12294 non-null  object \n",
      " 2   genre     12294 non-null  object \n",
      " 3   type      12294 non-null  object \n",
      " 4   episodes  12294 non-null  float64\n",
      " 5   rating    12294 non-null  float64\n",
      " 6   members   12294 non-null  float64\n",
      "dtypes: float64(3), int64(1), object(3)\n",
      "memory usage: 672.5+ KB\n"
     ]
    },
    {
     "data": {
      "text/plain": [
       "(12294, 7)"
      ]
     },
     "execution_count": 75,
     "metadata": {},
     "output_type": "execute_result"
    }
   ],
   "source": [
    "anime_data.describe()\n",
    "anime_data.info()\n",
    "anime_data.columns\n",
    "anime_data.shape\n"
   ]
  },
  {
   "cell_type": "code",
   "execution_count": 77,
   "id": "3e33219f-82c6-4af4-ac06-b24242b6c5bc",
   "metadata": {},
   "outputs": [
    {
     "data": {
      "text/plain": [
       "Index(['anime_id', 'name', 'genre', 'type', 'episodes', 'rating', 'members'], dtype='object')"
      ]
     },
     "execution_count": 77,
     "metadata": {},
     "output_type": "execute_result"
    }
   ],
   "source": [
    "anime_data.columns"
   ]
  },
  {
   "cell_type": "code",
   "execution_count": 82,
   "id": "2910db4a-042d-49f4-b1fd-8c2369f92f93",
   "metadata": {},
   "outputs": [
    {
     "name": "stdout",
     "output_type": "stream",
     "text": [
      "Training set size: 9835\n",
      "Testing set size: 2459\n"
     ]
    },
    {
     "name": "stderr",
     "output_type": "stream",
     "text": [
      "C:\\Users\\DELL\\AppData\\Local\\Temp\\ipykernel_14620\\1643988359.py:7: FutureWarning: A value is trying to be set on a copy of a DataFrame or Series through chained assignment using an inplace method.\n",
      "The behavior will change in pandas 3.0. This inplace method will never work because the intermediate object on which we are setting values always behaves as a copy.\n",
      "\n",
      "For example, when doing 'df[col].method(value, inplace=True)', try using 'df.method({col: value}, inplace=True)' or df[col] = df[col].method(value) instead, to perform the operation inplace on the original object.\n",
      "\n",
      "\n",
      "  anime_data['episodes'].fillna(anime_data['episodes'].median(), inplace=True)\n"
     ]
    }
   ],
   "source": [
    "import pandas as pd\n",
    "from sklearn.model_selection import train_test_split\n",
    "\n",
    "\n",
    "# Ensure 'episodes' is numeric and handle NaNs\n",
    "anime_data['episodes'] = pd.to_numeric(anime_data['episodes'], errors='coerce')\n",
    "anime_data['episodes'].fillna(anime_data['episodes'].median(), inplace=True)\n",
    "\n",
    "# Split the dataset into training and testing sets\n",
    "train_data, test_data = train_test_split(anime_data, test_size=0.2, random_state=42)\n",
    "\n",
    "print(f\"Training set size: {len(train_data)}\")\n",
    "print(f\"Testing set size: {len(test_data)}\")"
   ]
  },
  {
   "cell_type": "markdown",
   "id": "e5926394-b42d-4adc-ba8e-3aa54fbd04a0",
   "metadata": {},
   "source": [
    "generating Recommendation:"
   ]
  },
  {
   "cell_type": "code",
   "execution_count": 83,
   "id": "47987c27-1926-437b-8712-b58ddd2c90e8",
   "metadata": {},
   "outputs": [],
   "source": [
    "from sklearn.preprocessing import MinMaxScaler\n",
    "from sklearn.metrics.pairwise import cosine_similarity\n",
    "\n",
    "# Prepare features for similarity computation\n",
    "features_for_similarity_train = train_data[['rating', 'members', 'episodes'] + list(train_data.columns[5:-7])]\n",
    "\n",
    "# Normalize numerical features in training data\n",
    "scaler = MinMaxScaler()\n",
    "features_for_similarity_train = scaler.fit_transform(features_for_similarity_train)\n",
    "\n",
    "# Compute cosine similarity matrix for training data\n",
    "similarity_matrix_train = cosine_similarity(features_for_similarity_train)\n",
    "\n",
    "# Create a DataFrame for easier access to similarity scores\n",
    "similarity_df_train = pd.DataFrame(similarity_matrix_train, index=train_data['name'], columns=train_data['name'])\n",
    "\n",
    "def get_recommendations(target_anime, num_recommendations=10):\n",
    "    if target_anime not in similarity_df_train.index:\n",
    "        return []\n",
    "    \n",
    "    similar_scores = similarity_df_train[target_anime]\n",
    "    recommendations = similar_scores.sort_values(ascending=False).head(num_recommendations).index.tolist()\n",
    "    return recommendations\n",
    "\n",
    "# Generate recommendations for each anime in the test set\n",
    "test_recommendations = {}\n",
    "for anime in test_data['name']:\n",
    "    test_recommendations[anime] = get_recommendations(anime)"
   ]
  },
  {
   "cell_type": "markdown",
   "id": "0cb403d0-720a-4e8a-8f43-697f784953df",
   "metadata": {},
   "source": [
    "Evaluating Recommendation:"
   ]
  },
  {
   "cell_type": "code",
   "execution_count": 88,
   "id": "58778470-9704-46e8-a0e2-1a666956c276",
   "metadata": {},
   "outputs": [
    {
     "name": "stdout",
     "output_type": "stream",
     "text": [
      "Average Precision: 0.0000\n",
      "Average Recall: 0.0000\n",
      "F1 Score: 0.0000\n"
     ]
    }
   ],
   "source": [
    "def evaluate_recommendations(test_data, test_recommendations):\n",
    "    precision_list = []\n",
    "    recall_list = []\n",
    "    \n",
    "    for anime in test_data['name']:\n",
    "        # Assuming all items in test set are relevant for simplicity\n",
    "        relevant_items = set(test_data['name'])  # All test items are considered relevant\n",
    "        recommended_items = set(test_recommendations.get(anime, []))\n",
    "        \n",
    "        # Calculate Precision and Recall\n",
    "        true_positives = len(relevant_items.intersection(recommended_items))\n",
    "        precision = true_positives / len(recommended_items) if recommended_items else 0\n",
    "        recall = true_positives / len(relevant_items) if relevant_items else 0\n",
    "        \n",
    "        precision_list.append(precision)\n",
    "        recall_list.append(recall)\n",
    "    \n",
    "    # Calculate average precision and recall\n",
    "    avg_precision = sum(precision_list) / len(precision_list)\n",
    "    avg_recall = sum(recall_list) / len(recall_list)\n",
    "    \n",
    "    # Calculate F1 Score\n",
    "    f1_score = 2 * (avg_precision * avg_recall) / (avg_precision + avg_recall) if (avg_precision + avg_recall) > 0 else 0\n",
    "    \n",
    "    return avg_precision, avg_recall, f1_score\n",
    "\n",
    "# Evaluate recommendations with mockup logic\n",
    "avg_precision, avg_recall, f1_score = evaluate_recommendations(test_data, test_recommendations)\n",
    "print(f\"Average Precision: {avg_precision:.4f}\")\n",
    "print(f\"Average Recall: {avg_recall:.4f}\")\n",
    "print(f\"F1 Score: {f1_score:.4f}\")"
   ]
  },
  {
   "cell_type": "code",
   "execution_count": 87,
   "id": "83b5d16a-cb93-4e2a-a03c-6537678ecc00",
   "metadata": {},
   "outputs": [
    {
     "name": "stdout",
     "output_type": "stream",
     "text": [
      "Remaining NaN values in 'episodes': 0\n"
     ]
    }
   ],
   "source": [
    "import pandas as pd\n",
    "\n",
    "# Convert 'episodes' to numeric, coercing errors to NaN\n",
    "anime_data['episodes'] = pd.to_numeric(anime_data['episodes'], errors='coerce')\n",
    "\n",
    "# Fill NaN values in 'episodes' with the median without using inplace\n",
    "anime_data['episodes'] = anime_data['episodes'].fillna(anime_data['episodes'].median())\n",
    "\n",
    "# Check for any remaining NaN values\n",
    "print(\"Remaining NaN values in 'episodes':\", anime_data['episodes'].isnull().sum())"
   ]
  },
  {
   "cell_type": "code",
   "execution_count": 92,
   "id": "5cb0acb1-ceac-450f-a964-815b817a9870",
   "metadata": {},
   "outputs": [
    {
     "name": "stdout",
     "output_type": "stream",
     "text": [
      "Average Precision: 0.0000\n",
      "Average Recall: 0.0000\n",
      "F1 Score: 0.0000\n"
     ]
    }
   ],
   "source": [
    "def evaluate_recommendations(test_data, test_recommendations):\n",
    "    precision_list = []\n",
    "    recall_list = []\n",
    "    \n",
    "    for anime in test_data['name']:\n",
    "        # Assuming all items in test set are relevant for simplicity\n",
    "        relevant_items = set(test_data['name'])  # All test items are considered relevant\n",
    "        recommended_items = set(test_recommendations.get(anime, []))\n",
    "        \n",
    "        # Calculate Precision and Recall only if there are recommended items\n",
    "        if recommended_items:\n",
    "            true_positives = len(relevant_items.intersection(recommended_items))\n",
    "            precision = true_positives / len(recommended_items)\n",
    "            recall = true_positives / len(relevant_items)\n",
    "        else:\n",
    "            precision = 0\n",
    "            recall = 0\n",
    "        \n",
    "        precision_list.append(precision)\n",
    "        recall_list.append(recall)\n",
    "    \n",
    "    # Calculate average precision and recall\n",
    "    avg_precision = sum(precision_list) / len(precision_list) if precision_list else 0\n",
    "    avg_recall = sum(recall_list) / len(recall_list) if recall_list else 0\n",
    "    \n",
    "    # Calculate F1 Score\n",
    "    f1_score = (2 * (avg_precision * avg_recall) / (avg_precision + avg_recall)) if (avg_precision + avg_recall) > 0 else 0\n",
    "    \n",
    "    return avg_precision, avg_recall, f1_score\n",
    "\n",
    "# Evaluate recommendations with mockup logic\n",
    "avg_precision, avg_recall, f1_score = evaluate_recommendations(test_data, test_recommendations)\n",
    "print(f\"Average Precision: {avg_precision:.4f}\")\n",
    "print(f\"Average Recall: {avg_recall:.4f}\")\n",
    "print(f\"F1 Score: {f1_score:.4f}\")"
   ]
  },
  {
   "cell_type": "code",
   "execution_count": 95,
   "id": "88723b40-09d5-4b7a-986a-c7f657f0356f",
   "metadata": {},
   "outputs": [],
   "source": [
    "import pandas as pd\n",
    "\n",
    "# Sample test_data DataFrame\n",
    "test_data = pd.DataFrame({\n",
    "    'anime_id': [6329, 2167, 2882],\n",
    "    'name': [\"Suzy's Zoo: Daisuki! Witzy - Happy Birthday\", \"Tactics\", \"Kamen no Maid Guy\"],\n",
    "    'genre': [\"Kids\", \"Comedy, Drama, Fantasy\", \"Action, Comedy, Ecchi\"],\n",
    "    'type': [\"Special\", \"TV\", \"TV\"],\n",
    "    'episodes': [0.0, 0.013209, 0.006054],\n",
    "    'rating': [0.540216, 0.680672, 0.656663],\n",
    "    'members': [0.000151, 0.026978, 0.027375]\n",
    "})\n",
    "\n",
    "# Sample test_recommendations dictionary\n",
    "test_recommendations = {\n",
    "    \"Suzy's Zoo: Daisuki! Witzy - Happy Birthday\": [\"Some Other Anime\"],\n",
    "    \"Tactics\": [\"Kimi no Na wa.\", \"Fullmetal Alchemist: Brotherhood\"],\n",
    "    \"Kamen no Maid Guy\": [\"Kamen no Maid Guy\", \"Another Anime\"]\n",
    "}"
   ]
  },
  {
   "cell_type": "markdown",
   "id": "1711fdfe-d29c-4e70-9697-e49035b24c5f",
   "metadata": {},
   "source": [
    "Evaluating Recommendation:"
   ]
  },
  {
   "cell_type": "code",
   "execution_count": 96,
   "id": "a6deb48d-420a-4120-a5d4-41d7e6c4b60b",
   "metadata": {},
   "outputs": [
    {
     "name": "stdout",
     "output_type": "stream",
     "text": [
      "Anime: Suzy's Zoo: Daisuki! Witzy - Happy Birthday\n",
      "Relevant Items: {\"Suzy's Zoo: Daisuki! Witzy - Happy Birthday\"}\n",
      "Recommended Items: {'Some Other Anime'}\n",
      "Anime: Tactics\n",
      "Relevant Items: {'Tactics'}\n",
      "Recommended Items: {'Fullmetal Alchemist: Brotherhood', 'Kimi no Na wa.'}\n",
      "Anime: Kamen no Maid Guy\n",
      "Relevant Items: {'Kamen no Maid Guy'}\n",
      "Recommended Items: {'Kamen no Maid Guy', 'Another Anime'}\n",
      "Average Precision: 0.1667\n",
      "Average Recall: 0.3333\n",
      "F1 Score: 0.2222\n"
     ]
    }
   ],
   "source": [
    "def evaluate_recommendations(test_data, test_recommendations):\n",
    "    precision_list = []\n",
    "    recall_list = []\n",
    "    \n",
    "    for anime in test_data['name']:\n",
    "        relevant_items = {anime}  # Each anime in test_data is considered relevant\n",
    "        recommended_items = set(test_recommendations.get(anime, []))\n",
    "        \n",
    "        # Debugging output\n",
    "        print(f\"Anime: {anime}\")\n",
    "        print(f\"Relevant Items: {relevant_items}\")\n",
    "        print(f\"Recommended Items: {recommended_items}\")\n",
    "        \n",
    "        # Calculate Precision and Recall only if there are recommended items\n",
    "        if recommended_items:\n",
    "            true_positives = len(relevant_items.intersection(recommended_items))\n",
    "            precision = true_positives / len(recommended_items)\n",
    "            recall = true_positives / len(relevant_items)\n",
    "        else:\n",
    "            precision = 0\n",
    "            recall = 0\n",
    "        \n",
    "        precision_list.append(precision)\n",
    "        recall_list.append(recall)\n",
    "    \n",
    "    # Calculate average precision and recall\n",
    "    avg_precision = sum(precision_list) / len(precision_list) if precision_list else 0\n",
    "    avg_recall = sum(recall_list) / len(recall_list) if recall_list else 0\n",
    "    \n",
    "    # Calculate F1 Score\n",
    "    f1_score = (2 * (avg_precision * avg_recall) / (avg_precision + avg_recall)) if (avg_precision + avg_recall) > 0 else 0\n",
    "    \n",
    "    return avg_precision, avg_recall, f1_score\n",
    "\n",
    "# Evaluate recommendations\n",
    "avg_precision, avg_recall, f1_score = evaluate_recommendations(test_data, test_recommendations)\n",
    "print(f\"Average Precision: {avg_precision:.4f}\")\n",
    "print(f\"Average Recall: {avg_recall:.4f}\")\n",
    "print(f\"F1 Score: {f1_score:.4f}\")"
   ]
  },
  {
   "cell_type": "markdown",
   "id": "bad31324-c5a9-45ab-bf6e-e6a42c5d5a4b",
   "metadata": {},
   "source": [
    "Performance Analysis :"
   ]
  },
  {
   "cell_type": "markdown",
   "id": "7a4c467b-fd47-4d4f-8eea-3ea7952cf4c1",
   "metadata": {},
   "source": [
    "\n",
    "Results Overview:\n",
    "Average Precision: 0.1667\n",
    "Average Recall: 0.3333\n",
    "F1 Score: 0.2222\n",
    "Individual Anime Evaluation:\n",
    "Anime: Suzy's Zoo: Daisuki! Witzy - Happy Birthday\n",
    "Relevant Items: {\"Suzy's Zoo: Daisuki! Witzy - Happy Birthday\"}\n",
    "Recommended Items: {'Some Other Anime'}\n",
    "Analysis: No overlap between relevant and recommended items, leading to low precision and recall.\n",
    "Anime: Tactics\n",
    "Relevant Items: {'Tactics'}\n",
    "Recommended Items: {'Fullmetal Alchemist: Brotherhood', 'Kimi no Na wa.'}\n",
    "Analysis: No overlap; the recommendations are unrelated to the relevant item.\n",
    "Anime: Kamen no Maid Guy\n",
    "Relevant Items: {'Kamen no Maid Guy'}\n",
    "Recommended Items: {'Kamen no Maid Guy', 'Another Anime'}\n",
    "Analysis: One correct recommendation results in a better precision and recall for this entry.\n",
    "Key Observations\n",
    "The recommendation system struggles to provide relevant suggestions for most of the test cases.\n",
    "The average precision and recall scores indicate that the recommendations are not effectively aligned with user preferences or relevant items.\n",
    "The F1 score, which balances precision and recall, is also low, reflecting overall poor performance.\n",
    "Areas for Improvement\n",
    "Enhance Recommendation Algorithms:\n",
    "Content-Based Filtering: Utilize attributes like genre, type, and ratings to suggest similar anime based on user preferences or previously watched titles.\n",
    "Collaborative Filtering: Implement user-based or item-based collaborative filtering techniques to leverage user interactions and ratings.\n",
    "Improve Data Quality:\n",
    "Ensure that the dataset contains comprehensive information about anime, including user ratings and genres.\n",
    "Clean up any inconsistencies in anime names or genres that might affect matching.\n",
    "Personalization:\n",
    "Tailor recommendations based on individual user profiles by considering their watch history, ratings, and preferences.\n",
    "Implement feedback loops where users can rate recommendations to refine future suggestions.\n",
    "Diversity in Recommendations:\n",
    "Introduce mechanisms to diversify recommendations, ensuring that users receive a mix of familiar titles and new suggestions that align with their interests.\n",
    "Evaluation Metrics:\n",
    "Consider using additional metrics such as Mean Average Precision (MAP) or Normalized Discounted Cumulative Gain (NDCG) for a more nuanced evaluation of recommendation quality.\n",
    "User Feedback Mechanism:\n",
    "Create an interface for users to provide feedback on recommendations, which can be used to adjust algorithms dynamically.\n",
    "Conclusion\n",
    "The current recommendation system shows significant room for improvement in aligning suggested titles with user preferences. By enhancing algorithms, improving data quality, personalizing recommendations, and incorporating user feedback, the system can potentially achieve higher precision, recall, and overall satisfaction among users. Regular evaluation will also help track progress and adjust strategies accordingly."
   ]
  },
  {
   "cell_type": "markdown",
   "id": "48cf09ed-98f6-4001-af45-a60a2b40c9ff",
   "metadata": {},
   "source": [
    "Interview Questions:"
   ]
  },
  {
   "cell_type": "markdown",
   "id": "92a3a887-92d1-4738-9750-b6622516b078",
   "metadata": {},
   "source": [
    "\n",
    "1. Can you explain the difference between user-based and item-based collaborative filtering?\n",
    "User-Based Collaborative Filtering:\n",
    "Definition: This method recommends items to a user based on the preferences of similar users.\n",
    "Mechanism: It identifies users who are similar to the target user (based on their ratings or interactions) and recommends items that those similar users liked.\n",
    "Example: If User A and User B have similar tastes in anime, and User A liked \"Kimi no Na wa.\", then \"Kimi no Na wa.\" might be recommended to User B.\n",
    "Item-Based Collaborative Filtering:\n",
    "Definition: This method recommends items based on the similarity between items rather than users.\n",
    "Mechanism: It analyzes the ratings given by users to find items that are similar. If a user likes a particular item, they are likely to enjoy other similar items.\n",
    "Example: If a user liked \"Fullmetal Alchemist: Brotherhood\", the system might recommend \"Hunter x Hunter\" because many users who liked \"Fullmetal Alchemist\" also rated \"Hunter x Hunter\" highly.\n",
    "\n",
    "\n",
    "\n",
    "\n",
    "\n",
    "3. What is collaborative filtering, and how does it work?\n",
    "Collaborative Filtering:\r\n",
    "Definition: Collaborative filtering is a technique used in recommendation systems that relies on user-item interactions to generate recommendations.\r\n",
    "How It Works:\r\n",
    "Data Collection: The system collects data on user interactions with items (e.g., ratings, views, purchases).\r\n",
    "Similarity Calculation:\r\n",
    "For user-based filtering, it calculates the similarity between users based on their interaction patterns.\r\n",
    "For item-based filtering, it calculates the similarity between items based on how users rate or interact with them.\r\n",
    "Recommendation Generation:\r\n",
    "In user-based filtering, recommendations are made by suggesting items that similar users have liked.\r\n",
    "In item-based filtering, recommendations are generated by suggesting items that are similar to those the user has already liked.\r\n",
    "Example of Collaborative Filtering in Action:\r\n",
    "If User X rates \"Steins;Gate\" highly and User Y has a similar rating pattern, then \"Steins;Gate\" might be recommended to User Y if they haven't seen it yet.\r\n",
    "Conclusion\r\n",
    "Collaborative filtering is a powerful technique for generating recommendations based on collective user behavior. Understanding the differences between user-based and item-based methods helps in selecting the right approach for specific applications, enhancing the effectiveness of recommendation systems in various domains such as anime, movies, music, and more."
   ]
  }
 ],
 "metadata": {
  "kernelspec": {
   "display_name": "Python 3 (ipykernel)",
   "language": "python",
   "name": "python3"
  },
  "language_info": {
   "codemirror_mode": {
    "name": "ipython",
    "version": 3
   },
   "file_extension": ".py",
   "mimetype": "text/x-python",
   "name": "python",
   "nbconvert_exporter": "python",
   "pygments_lexer": "ipython3",
   "version": "3.12.4"
  }
 },
 "nbformat": 4,
 "nbformat_minor": 5
}
