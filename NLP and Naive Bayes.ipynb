{
 "cells": [
  {
   "cell_type": "markdown",
   "id": "f44d56c2-add1-482a-bdeb-56695e02416d",
   "metadata": {},
   "source": [
    "Step 1:Load the Dataset from DOCX\n",
    "You can use the python-docx library to read the content of a DOCX file. First, ensure you have the library installed:"
   ]
  },
  {
   "cell_type": "code",
   "execution_count": 1,
   "id": "a68a4f4a-91b1-4a7a-b02a-a0f33f94015b",
   "metadata": {},
   "outputs": [
    {
     "name": "stdout",
     "output_type": "stream",
     "text": [
      "Requirement already satisfied: python-docx in c:\\programdata\\anaconda3\\lib\\site-packages (1.1.2)\n",
      "Requirement already satisfied: lxml>=3.1.0 in c:\\programdata\\anaconda3\\lib\\site-packages (from python-docx) (5.2.1)\n",
      "Requirement already satisfied: typing-extensions>=4.9.0 in c:\\programdata\\anaconda3\\lib\\site-packages (from python-docx) (4.11.0)\n",
      "Note: you may need to restart the kernel to use updated packages.\n"
     ]
    }
   ],
   "source": [
    "pip install python-docx"
   ]
  },
  {
   "cell_type": "code",
   "execution_count": 3,
   "id": "b1950a33-9141-4195-8268-df22440c1677",
   "metadata": {},
   "outputs": [
    {
     "name": "stdout",
     "output_type": "stream",
     "text": [
      "                                                Data\n",
      "0                                        Data,Labels\n",
      "1  \"Path: cantaloupe.srv.cs.cmu.edu!magnesium.clu...\n",
      "2          From: frank@D012S658.uucp (Frank O'Dwyer)\n",
      "3                            Newsgroups: alt.atheism\n",
      "4                      Subject: Re: islamic genocide\n"
     ]
    }
   ],
   "source": [
    "import pandas as pd\n",
    "from docx import Document\n",
    "\n",
    "# Load the DOCX file\n",
    "doc = Document('C:/Users/DELL/OneDrive/Documents/data science asignments/blogs.docx')\n",
    "\n",
    "# Extract text from each paragraph in the document\n",
    "data = []\n",
    "for para in doc.paragraphs:\n",
    "    if para.text.strip():  # Only add non-empty paragraphs\n",
    "        data.append(para.text)\n",
    "\n",
    "# Create a DataFrame assuming each paragraph is a blog post\n",
    "df = pd.DataFrame(data, columns=['Data'])\n",
    "\n",
    "# Display the first few rows of the DataFrame\n",
    "print(df.head())"
   ]
  },
  {
   "cell_type": "markdown",
   "id": "f2829d0a-92c5-4f11-83bd-797ff16cbd75",
   "metadata": {},
   "source": [
    "Step 2: Exploratory Data Analysis (EDA)\n",
    "Perform exploratory data analysis to understand the structure and content of your dataset:"
   ]
  },
  {
   "cell_type": "markdown",
   "id": "2f1c4ec4-a36d-4707-8141-48e33aa6ef65",
   "metadata": {},
   "source": [
    "Check the shape of the dataset:\n"
   ]
  },
  {
   "cell_type": "code",
   "execution_count": 4,
   "id": "f27dda9f-8aa3-4286-bb11-3afded75837f",
   "metadata": {},
   "outputs": [
    {
     "name": "stdout",
     "output_type": "stream",
     "text": [
      "Shape of dataset: (82856, 1)\n"
     ]
    }
   ],
   "source": [
    "print(\"Shape of dataset:\", df.shape)"
   ]
  },
  {
   "cell_type": "markdown",
   "id": "47fad199-19c2-4a64-864c-a37a6e66694e",
   "metadata": {},
   "source": [
    "Inspect data types and missing values:"
   ]
  },
  {
   "cell_type": "code",
   "execution_count": 5,
   "id": "cf299b92-164b-46f7-9b20-7bfac11bb032",
   "metadata": {},
   "outputs": [
    {
     "name": "stdout",
     "output_type": "stream",
     "text": [
      "<class 'pandas.core.frame.DataFrame'>\n",
      "RangeIndex: 82856 entries, 0 to 82855\n",
      "Data columns (total 1 columns):\n",
      " #   Column  Non-Null Count  Dtype \n",
      "---  ------  --------------  ----- \n",
      " 0   Data    82856 non-null  object\n",
      "dtypes: object(1)\n",
      "memory usage: 647.4+ KB\n",
      "None\n",
      "Data    0\n",
      "dtype: int64\n"
     ]
    }
   ],
   "source": [
    "print(df.info())\n",
    "print(df.isnull().sum())"
   ]
  },
  {
   "cell_type": "markdown",
   "id": "6421fd28-c9d4-41e7-a6e9-0b7b661b0faa",
   "metadata": {},
   "source": [
    "Step 3: Data Preprocessing\n",
    "Clean and preprocess the text data similarly as before:\n",
    "Text Cleaning: Remove punctuation, convert to lowercase, etc.\n",
    "Tokenization: Split text into individual words.\n",
    "Removing Stopwords: Eliminate common words that do not contribute to sentiment."
   ]
  },
  {
   "cell_type": "code",
   "execution_count": 6,
   "id": "e11ae6a1-90a7-450a-89c2-79e5249cadbd",
   "metadata": {},
   "outputs": [
    {
     "name": "stderr",
     "output_type": "stream",
     "text": [
      "[nltk_data] Downloading package stopwords to\n",
      "[nltk_data]     C:\\Users\\DELL\\AppData\\Roaming\\nltk_data...\n",
      "[nltk_data]   Unzipping corpora\\stopwords.zip.\n"
     ]
    }
   ],
   "source": [
    "import re\n",
    "import nltk\n",
    "from nltk.corpus import stopwords\n",
    "\n",
    "# Download stopwords if not already downloaded\n",
    "nltk.download('stopwords')\n",
    "\n",
    "# Define a function for text cleaning\n",
    "def clean_text(text):\n",
    "    # Remove punctuation and numbers, convert to lowercase\n",
    "    text = re.sub(r'[^\\w\\s]', '', text)\n",
    "    text = re.sub(r'\\d+', '', text)\n",
    "    text = text.lower()\n",
    "    return text\n",
    "\n",
    "# Apply cleaning function to the Data column\n",
    "df['Cleaned_Data'] = df['Data'].apply(clean_text)\n",
    "\n",
    "# Tokenization and removing stopwords\n",
    "stop_words = set(stopwords.words('english'))\n",
    "\n",
    "def tokenize_and_remove_stopwords(text):\n",
    "    tokens = text.split()\n",
    "    tokens = [word for word in tokens if word not in stop_words]\n",
    "    return ' '.join(tokens)\n",
    "\n",
    "df['Processed_Data'] = df['Cleaned_Data'].apply(tokenize_and_remove_stopwords)"
   ]
  },
  {
   "cell_type": "markdown",
   "id": "e3769c17-9e92-4fa8-bba9-493b8aed8e5c",
   "metadata": {},
   "source": [
    "Step 4: Feature Extraction using TF-IDF\n",
    "Convert the cleaned text data into a format suitable for machine learning models using TF-IDF:"
   ]
  },
  {
   "cell_type": "code",
   "execution_count": 7,
   "id": "8ac36277-da31-4276-a232-8942aa831b1d",
   "metadata": {},
   "outputs": [
    {
     "name": "stdout",
     "output_type": "stream",
     "text": [
      "TF-IDF matrix shape: (82856, 45393)\n"
     ]
    }
   ],
   "source": [
    "from sklearn.feature_extraction.text import TfidfVectorizer\n",
    "\n",
    "# Initialize TF-IDF Vectorizer\n",
    "tfidf_vectorizer = TfidfVectorizer()\n",
    "\n",
    "# Fit and transform the processed data\n",
    "X = tfidf_vectorizer.fit_transform(df['Processed_Data'])\n",
    "\n",
    "# Display the shape of the TF-IDF matrix\n",
    "print(\"TF-IDF matrix shape:\", X.shape)"
   ]
  },
  {
   "cell_type": "markdown",
   "id": "88e90fa1-758b-43d1-a2f2-0ff31fcf901c",
   "metadata": {},
   "source": [
    "Summary of Task 1:\n",
    "You have successfully loaded and explored the \"blogs.docx\" dataset, performed necessary preprocessing steps including cleaning, tokenization, and stopword removal, and transformed the text data into a TF-IDF representation suitable for modeling."
   ]
  },
  {
   "cell_type": "markdown",
   "id": "3f359a2b-6861-4471-8a69-9bd8936ae7ad",
   "metadata": {},
   "source": [
    "2. Naive Bayes Model for Text Classification\n",
    "•\tSplit the data into training and test sets.\n",
    "•\tImplement a Naive Bayes classifier to categorize the blog posts into their respective categories. You can use libraries like scikit-learn for this purpose.\n",
    "•\tTrain the model on the training set and make predictions on the test set.\n"
   ]
  },
  {
   "cell_type": "markdown",
   "id": "e97f298a-aa00-47d3-b192-5c1ddab100cd",
   "metadata": {},
   "source": [
    "Step 1: Prepare the Labels\n",
    "Since your dataset currently does not have a label column, you need to create one. If you have specific categories for the blog posts, you can manually assign them or load them from another source. For demonstration purposes, let’s assume you have a predefined list of categories.\n"
   ]
  },
  {
   "cell_type": "code",
   "execution_count": 9,
   "id": "b5c3dd7c-3f8d-48a1-a15f-598c88ab7cd2",
   "metadata": {},
   "outputs": [],
   "source": [
    "# Example categories (replace with actual categories if available)\n",
    "categories = ['Technology', 'Health', 'Lifestyle', 'Education', 'Finance']\n",
    "\n",
    "# Randomly assign categories for demonstration (you should replace this with real labels)\n",
    "import numpy as np\n",
    "\n",
    "np.random.seed(42)  # For reproducibility\n",
    "df['Labels'] = np.random.choice(categories, size=len(df))"
   ]
  },
  {
   "cell_type": "markdown",
   "id": "a677394c-98d7-4094-8eb1-2e9db6894194",
   "metadata": {},
   "source": [
    "Step 2: Split the Data\n",
    "You will split the dataset into training and test sets using train_test_split"
   ]
  },
  {
   "cell_type": "code",
   "execution_count": 10,
   "id": "580cc055-bf91-4f0b-adda-8c67db037a3a",
   "metadata": {},
   "outputs": [],
   "source": [
    "from sklearn.model_selection import train_test_split\n",
    "\n",
    "# Split data into training and test sets\n",
    "X_train, X_test, y_train, y_test = train_test_split(X, df['Labels'], test_size=0.2, random_state=42)"
   ]
  },
  {
   "cell_type": "markdown",
   "id": "cd44e72f-2db2-42e6-8aa0-3e3698f05b14",
   "metadata": {},
   "source": [
    "Step 3: Implement the Naive Bayes Classifier\n",
    "Now, you can initialize and train a Naive Bayes classifier using MultinomialNB from sklearn."
   ]
  },
  {
   "cell_type": "code",
   "execution_count": 11,
   "id": "677e1662-85f2-409e-a644-c2f3cd5c621d",
   "metadata": {},
   "outputs": [
    {
     "data": {
      "text/html": [
       "<style>#sk-container-id-1 {\n",
       "  /* Definition of color scheme common for light and dark mode */\n",
       "  --sklearn-color-text: black;\n",
       "  --sklearn-color-line: gray;\n",
       "  /* Definition of color scheme for unfitted estimators */\n",
       "  --sklearn-color-unfitted-level-0: #fff5e6;\n",
       "  --sklearn-color-unfitted-level-1: #f6e4d2;\n",
       "  --sklearn-color-unfitted-level-2: #ffe0b3;\n",
       "  --sklearn-color-unfitted-level-3: chocolate;\n",
       "  /* Definition of color scheme for fitted estimators */\n",
       "  --sklearn-color-fitted-level-0: #f0f8ff;\n",
       "  --sklearn-color-fitted-level-1: #d4ebff;\n",
       "  --sklearn-color-fitted-level-2: #b3dbfd;\n",
       "  --sklearn-color-fitted-level-3: cornflowerblue;\n",
       "\n",
       "  /* Specific color for light theme */\n",
       "  --sklearn-color-text-on-default-background: var(--sg-text-color, var(--theme-code-foreground, var(--jp-content-font-color1, black)));\n",
       "  --sklearn-color-background: var(--sg-background-color, var(--theme-background, var(--jp-layout-color0, white)));\n",
       "  --sklearn-color-border-box: var(--sg-text-color, var(--theme-code-foreground, var(--jp-content-font-color1, black)));\n",
       "  --sklearn-color-icon: #696969;\n",
       "\n",
       "  @media (prefers-color-scheme: dark) {\n",
       "    /* Redefinition of color scheme for dark theme */\n",
       "    --sklearn-color-text-on-default-background: var(--sg-text-color, var(--theme-code-foreground, var(--jp-content-font-color1, white)));\n",
       "    --sklearn-color-background: var(--sg-background-color, var(--theme-background, var(--jp-layout-color0, #111)));\n",
       "    --sklearn-color-border-box: var(--sg-text-color, var(--theme-code-foreground, var(--jp-content-font-color1, white)));\n",
       "    --sklearn-color-icon: #878787;\n",
       "  }\n",
       "}\n",
       "\n",
       "#sk-container-id-1 {\n",
       "  color: var(--sklearn-color-text);\n",
       "}\n",
       "\n",
       "#sk-container-id-1 pre {\n",
       "  padding: 0;\n",
       "}\n",
       "\n",
       "#sk-container-id-1 input.sk-hidden--visually {\n",
       "  border: 0;\n",
       "  clip: rect(1px 1px 1px 1px);\n",
       "  clip: rect(1px, 1px, 1px, 1px);\n",
       "  height: 1px;\n",
       "  margin: -1px;\n",
       "  overflow: hidden;\n",
       "  padding: 0;\n",
       "  position: absolute;\n",
       "  width: 1px;\n",
       "}\n",
       "\n",
       "#sk-container-id-1 div.sk-dashed-wrapped {\n",
       "  border: 1px dashed var(--sklearn-color-line);\n",
       "  margin: 0 0.4em 0.5em 0.4em;\n",
       "  box-sizing: border-box;\n",
       "  padding-bottom: 0.4em;\n",
       "  background-color: var(--sklearn-color-background);\n",
       "}\n",
       "\n",
       "#sk-container-id-1 div.sk-container {\n",
       "  /* jupyter's `normalize.less` sets `[hidden] { display: none; }`\n",
       "     but bootstrap.min.css set `[hidden] { display: none !important; }`\n",
       "     so we also need the `!important` here to be able to override the\n",
       "     default hidden behavior on the sphinx rendered scikit-learn.org.\n",
       "     See: https://github.com/scikit-learn/scikit-learn/issues/21755 */\n",
       "  display: inline-block !important;\n",
       "  position: relative;\n",
       "}\n",
       "\n",
       "#sk-container-id-1 div.sk-text-repr-fallback {\n",
       "  display: none;\n",
       "}\n",
       "\n",
       "div.sk-parallel-item,\n",
       "div.sk-serial,\n",
       "div.sk-item {\n",
       "  /* draw centered vertical line to link estimators */\n",
       "  background-image: linear-gradient(var(--sklearn-color-text-on-default-background), var(--sklearn-color-text-on-default-background));\n",
       "  background-size: 2px 100%;\n",
       "  background-repeat: no-repeat;\n",
       "  background-position: center center;\n",
       "}\n",
       "\n",
       "/* Parallel-specific style estimator block */\n",
       "\n",
       "#sk-container-id-1 div.sk-parallel-item::after {\n",
       "  content: \"\";\n",
       "  width: 100%;\n",
       "  border-bottom: 2px solid var(--sklearn-color-text-on-default-background);\n",
       "  flex-grow: 1;\n",
       "}\n",
       "\n",
       "#sk-container-id-1 div.sk-parallel {\n",
       "  display: flex;\n",
       "  align-items: stretch;\n",
       "  justify-content: center;\n",
       "  background-color: var(--sklearn-color-background);\n",
       "  position: relative;\n",
       "}\n",
       "\n",
       "#sk-container-id-1 div.sk-parallel-item {\n",
       "  display: flex;\n",
       "  flex-direction: column;\n",
       "}\n",
       "\n",
       "#sk-container-id-1 div.sk-parallel-item:first-child::after {\n",
       "  align-self: flex-end;\n",
       "  width: 50%;\n",
       "}\n",
       "\n",
       "#sk-container-id-1 div.sk-parallel-item:last-child::after {\n",
       "  align-self: flex-start;\n",
       "  width: 50%;\n",
       "}\n",
       "\n",
       "#sk-container-id-1 div.sk-parallel-item:only-child::after {\n",
       "  width: 0;\n",
       "}\n",
       "\n",
       "/* Serial-specific style estimator block */\n",
       "\n",
       "#sk-container-id-1 div.sk-serial {\n",
       "  display: flex;\n",
       "  flex-direction: column;\n",
       "  align-items: center;\n",
       "  background-color: var(--sklearn-color-background);\n",
       "  padding-right: 1em;\n",
       "  padding-left: 1em;\n",
       "}\n",
       "\n",
       "\n",
       "/* Toggleable style: style used for estimator/Pipeline/ColumnTransformer box that is\n",
       "clickable and can be expanded/collapsed.\n",
       "- Pipeline and ColumnTransformer use this feature and define the default style\n",
       "- Estimators will overwrite some part of the style using the `sk-estimator` class\n",
       "*/\n",
       "\n",
       "/* Pipeline and ColumnTransformer style (default) */\n",
       "\n",
       "#sk-container-id-1 div.sk-toggleable {\n",
       "  /* Default theme specific background. It is overwritten whether we have a\n",
       "  specific estimator or a Pipeline/ColumnTransformer */\n",
       "  background-color: var(--sklearn-color-background);\n",
       "}\n",
       "\n",
       "/* Toggleable label */\n",
       "#sk-container-id-1 label.sk-toggleable__label {\n",
       "  cursor: pointer;\n",
       "  display: block;\n",
       "  width: 100%;\n",
       "  margin-bottom: 0;\n",
       "  padding: 0.5em;\n",
       "  box-sizing: border-box;\n",
       "  text-align: center;\n",
       "}\n",
       "\n",
       "#sk-container-id-1 label.sk-toggleable__label-arrow:before {\n",
       "  /* Arrow on the left of the label */\n",
       "  content: \"▸\";\n",
       "  float: left;\n",
       "  margin-right: 0.25em;\n",
       "  color: var(--sklearn-color-icon);\n",
       "}\n",
       "\n",
       "#sk-container-id-1 label.sk-toggleable__label-arrow:hover:before {\n",
       "  color: var(--sklearn-color-text);\n",
       "}\n",
       "\n",
       "/* Toggleable content - dropdown */\n",
       "\n",
       "#sk-container-id-1 div.sk-toggleable__content {\n",
       "  max-height: 0;\n",
       "  max-width: 0;\n",
       "  overflow: hidden;\n",
       "  text-align: left;\n",
       "  /* unfitted */\n",
       "  background-color: var(--sklearn-color-unfitted-level-0);\n",
       "}\n",
       "\n",
       "#sk-container-id-1 div.sk-toggleable__content.fitted {\n",
       "  /* fitted */\n",
       "  background-color: var(--sklearn-color-fitted-level-0);\n",
       "}\n",
       "\n",
       "#sk-container-id-1 div.sk-toggleable__content pre {\n",
       "  margin: 0.2em;\n",
       "  border-radius: 0.25em;\n",
       "  color: var(--sklearn-color-text);\n",
       "  /* unfitted */\n",
       "  background-color: var(--sklearn-color-unfitted-level-0);\n",
       "}\n",
       "\n",
       "#sk-container-id-1 div.sk-toggleable__content.fitted pre {\n",
       "  /* unfitted */\n",
       "  background-color: var(--sklearn-color-fitted-level-0);\n",
       "}\n",
       "\n",
       "#sk-container-id-1 input.sk-toggleable__control:checked~div.sk-toggleable__content {\n",
       "  /* Expand drop-down */\n",
       "  max-height: 200px;\n",
       "  max-width: 100%;\n",
       "  overflow: auto;\n",
       "}\n",
       "\n",
       "#sk-container-id-1 input.sk-toggleable__control:checked~label.sk-toggleable__label-arrow:before {\n",
       "  content: \"▾\";\n",
       "}\n",
       "\n",
       "/* Pipeline/ColumnTransformer-specific style */\n",
       "\n",
       "#sk-container-id-1 div.sk-label input.sk-toggleable__control:checked~label.sk-toggleable__label {\n",
       "  color: var(--sklearn-color-text);\n",
       "  background-color: var(--sklearn-color-unfitted-level-2);\n",
       "}\n",
       "\n",
       "#sk-container-id-1 div.sk-label.fitted input.sk-toggleable__control:checked~label.sk-toggleable__label {\n",
       "  background-color: var(--sklearn-color-fitted-level-2);\n",
       "}\n",
       "\n",
       "/* Estimator-specific style */\n",
       "\n",
       "/* Colorize estimator box */\n",
       "#sk-container-id-1 div.sk-estimator input.sk-toggleable__control:checked~label.sk-toggleable__label {\n",
       "  /* unfitted */\n",
       "  background-color: var(--sklearn-color-unfitted-level-2);\n",
       "}\n",
       "\n",
       "#sk-container-id-1 div.sk-estimator.fitted input.sk-toggleable__control:checked~label.sk-toggleable__label {\n",
       "  /* fitted */\n",
       "  background-color: var(--sklearn-color-fitted-level-2);\n",
       "}\n",
       "\n",
       "#sk-container-id-1 div.sk-label label.sk-toggleable__label,\n",
       "#sk-container-id-1 div.sk-label label {\n",
       "  /* The background is the default theme color */\n",
       "  color: var(--sklearn-color-text-on-default-background);\n",
       "}\n",
       "\n",
       "/* On hover, darken the color of the background */\n",
       "#sk-container-id-1 div.sk-label:hover label.sk-toggleable__label {\n",
       "  color: var(--sklearn-color-text);\n",
       "  background-color: var(--sklearn-color-unfitted-level-2);\n",
       "}\n",
       "\n",
       "/* Label box, darken color on hover, fitted */\n",
       "#sk-container-id-1 div.sk-label.fitted:hover label.sk-toggleable__label.fitted {\n",
       "  color: var(--sklearn-color-text);\n",
       "  background-color: var(--sklearn-color-fitted-level-2);\n",
       "}\n",
       "\n",
       "/* Estimator label */\n",
       "\n",
       "#sk-container-id-1 div.sk-label label {\n",
       "  font-family: monospace;\n",
       "  font-weight: bold;\n",
       "  display: inline-block;\n",
       "  line-height: 1.2em;\n",
       "}\n",
       "\n",
       "#sk-container-id-1 div.sk-label-container {\n",
       "  text-align: center;\n",
       "}\n",
       "\n",
       "/* Estimator-specific */\n",
       "#sk-container-id-1 div.sk-estimator {\n",
       "  font-family: monospace;\n",
       "  border: 1px dotted var(--sklearn-color-border-box);\n",
       "  border-radius: 0.25em;\n",
       "  box-sizing: border-box;\n",
       "  margin-bottom: 0.5em;\n",
       "  /* unfitted */\n",
       "  background-color: var(--sklearn-color-unfitted-level-0);\n",
       "}\n",
       "\n",
       "#sk-container-id-1 div.sk-estimator.fitted {\n",
       "  /* fitted */\n",
       "  background-color: var(--sklearn-color-fitted-level-0);\n",
       "}\n",
       "\n",
       "/* on hover */\n",
       "#sk-container-id-1 div.sk-estimator:hover {\n",
       "  /* unfitted */\n",
       "  background-color: var(--sklearn-color-unfitted-level-2);\n",
       "}\n",
       "\n",
       "#sk-container-id-1 div.sk-estimator.fitted:hover {\n",
       "  /* fitted */\n",
       "  background-color: var(--sklearn-color-fitted-level-2);\n",
       "}\n",
       "\n",
       "/* Specification for estimator info (e.g. \"i\" and \"?\") */\n",
       "\n",
       "/* Common style for \"i\" and \"?\" */\n",
       "\n",
       ".sk-estimator-doc-link,\n",
       "a:link.sk-estimator-doc-link,\n",
       "a:visited.sk-estimator-doc-link {\n",
       "  float: right;\n",
       "  font-size: smaller;\n",
       "  line-height: 1em;\n",
       "  font-family: monospace;\n",
       "  background-color: var(--sklearn-color-background);\n",
       "  border-radius: 1em;\n",
       "  height: 1em;\n",
       "  width: 1em;\n",
       "  text-decoration: none !important;\n",
       "  margin-left: 1ex;\n",
       "  /* unfitted */\n",
       "  border: var(--sklearn-color-unfitted-level-1) 1pt solid;\n",
       "  color: var(--sklearn-color-unfitted-level-1);\n",
       "}\n",
       "\n",
       ".sk-estimator-doc-link.fitted,\n",
       "a:link.sk-estimator-doc-link.fitted,\n",
       "a:visited.sk-estimator-doc-link.fitted {\n",
       "  /* fitted */\n",
       "  border: var(--sklearn-color-fitted-level-1) 1pt solid;\n",
       "  color: var(--sklearn-color-fitted-level-1);\n",
       "}\n",
       "\n",
       "/* On hover */\n",
       "div.sk-estimator:hover .sk-estimator-doc-link:hover,\n",
       ".sk-estimator-doc-link:hover,\n",
       "div.sk-label-container:hover .sk-estimator-doc-link:hover,\n",
       ".sk-estimator-doc-link:hover {\n",
       "  /* unfitted */\n",
       "  background-color: var(--sklearn-color-unfitted-level-3);\n",
       "  color: var(--sklearn-color-background);\n",
       "  text-decoration: none;\n",
       "}\n",
       "\n",
       "div.sk-estimator.fitted:hover .sk-estimator-doc-link.fitted:hover,\n",
       ".sk-estimator-doc-link.fitted:hover,\n",
       "div.sk-label-container:hover .sk-estimator-doc-link.fitted:hover,\n",
       ".sk-estimator-doc-link.fitted:hover {\n",
       "  /* fitted */\n",
       "  background-color: var(--sklearn-color-fitted-level-3);\n",
       "  color: var(--sklearn-color-background);\n",
       "  text-decoration: none;\n",
       "}\n",
       "\n",
       "/* Span, style for the box shown on hovering the info icon */\n",
       ".sk-estimator-doc-link span {\n",
       "  display: none;\n",
       "  z-index: 9999;\n",
       "  position: relative;\n",
       "  font-weight: normal;\n",
       "  right: .2ex;\n",
       "  padding: .5ex;\n",
       "  margin: .5ex;\n",
       "  width: min-content;\n",
       "  min-width: 20ex;\n",
       "  max-width: 50ex;\n",
       "  color: var(--sklearn-color-text);\n",
       "  box-shadow: 2pt 2pt 4pt #999;\n",
       "  /* unfitted */\n",
       "  background: var(--sklearn-color-unfitted-level-0);\n",
       "  border: .5pt solid var(--sklearn-color-unfitted-level-3);\n",
       "}\n",
       "\n",
       ".sk-estimator-doc-link.fitted span {\n",
       "  /* fitted */\n",
       "  background: var(--sklearn-color-fitted-level-0);\n",
       "  border: var(--sklearn-color-fitted-level-3);\n",
       "}\n",
       "\n",
       ".sk-estimator-doc-link:hover span {\n",
       "  display: block;\n",
       "}\n",
       "\n",
       "/* \"?\"-specific style due to the `<a>` HTML tag */\n",
       "\n",
       "#sk-container-id-1 a.estimator_doc_link {\n",
       "  float: right;\n",
       "  font-size: 1rem;\n",
       "  line-height: 1em;\n",
       "  font-family: monospace;\n",
       "  background-color: var(--sklearn-color-background);\n",
       "  border-radius: 1rem;\n",
       "  height: 1rem;\n",
       "  width: 1rem;\n",
       "  text-decoration: none;\n",
       "  /* unfitted */\n",
       "  color: var(--sklearn-color-unfitted-level-1);\n",
       "  border: var(--sklearn-color-unfitted-level-1) 1pt solid;\n",
       "}\n",
       "\n",
       "#sk-container-id-1 a.estimator_doc_link.fitted {\n",
       "  /* fitted */\n",
       "  border: var(--sklearn-color-fitted-level-1) 1pt solid;\n",
       "  color: var(--sklearn-color-fitted-level-1);\n",
       "}\n",
       "\n",
       "/* On hover */\n",
       "#sk-container-id-1 a.estimator_doc_link:hover {\n",
       "  /* unfitted */\n",
       "  background-color: var(--sklearn-color-unfitted-level-3);\n",
       "  color: var(--sklearn-color-background);\n",
       "  text-decoration: none;\n",
       "}\n",
       "\n",
       "#sk-container-id-1 a.estimator_doc_link.fitted:hover {\n",
       "  /* fitted */\n",
       "  background-color: var(--sklearn-color-fitted-level-3);\n",
       "}\n",
       "</style><div id=\"sk-container-id-1\" class=\"sk-top-container\"><div class=\"sk-text-repr-fallback\"><pre>MultinomialNB()</pre><b>In a Jupyter environment, please rerun this cell to show the HTML representation or trust the notebook. <br />On GitHub, the HTML representation is unable to render, please try loading this page with nbviewer.org.</b></div><div class=\"sk-container\" hidden><div class=\"sk-item\"><div class=\"sk-estimator fitted sk-toggleable\"><input class=\"sk-toggleable__control sk-hidden--visually\" id=\"sk-estimator-id-1\" type=\"checkbox\" checked><label for=\"sk-estimator-id-1\" class=\"sk-toggleable__label fitted sk-toggleable__label-arrow fitted\">&nbsp;&nbsp;MultinomialNB<a class=\"sk-estimator-doc-link fitted\" rel=\"noreferrer\" target=\"_blank\" href=\"https://scikit-learn.org/1.4/modules/generated/sklearn.naive_bayes.MultinomialNB.html\">?<span>Documentation for MultinomialNB</span></a><span class=\"sk-estimator-doc-link fitted\">i<span>Fitted</span></span></label><div class=\"sk-toggleable__content fitted\"><pre>MultinomialNB()</pre></div> </div></div></div></div>"
      ],
      "text/plain": [
       "MultinomialNB()"
      ]
     },
     "execution_count": 11,
     "metadata": {},
     "output_type": "execute_result"
    }
   ],
   "source": [
    "from sklearn.naive_bayes import MultinomialNB\n",
    "\n",
    "# Initialize the Naive Bayes classifier\n",
    "nb_classifier = MultinomialNB()\n",
    "\n",
    "# Train the model on the training set\n",
    "nb_classifier.fit(X_train, y_train)"
   ]
  },
  {
   "cell_type": "markdown",
   "id": "5e2daebd-a30f-4ea7-bf17-0026901c5383",
   "metadata": {},
   "source": [
    "Step 4: Make Predictions\n",
    "After training the model, make predictions on the test set."
   ]
  },
  {
   "cell_type": "code",
   "execution_count": 12,
   "id": "60dfcc96-0439-4d69-85f1-974489d4a4d9",
   "metadata": {},
   "outputs": [],
   "source": [
    "# Make predictions on the test set\n",
    "y_pred = nb_classifier.predict(X_test)"
   ]
  },
  {
   "cell_type": "markdown",
   "id": "d2533919-dfe6-4d65-9015-2aaabddd480c",
   "metadata": {},
   "source": [
    "Step 5: Evaluate Model Performance\n",
    "Use various metrics to evaluate how well your model performed.\n",
    "python"
   ]
  },
  {
   "cell_type": "code",
   "execution_count": 13,
   "id": "3dcb5d9e-4085-491c-9c02-e5f75ec16195",
   "metadata": {},
   "outputs": [
    {
     "name": "stdout",
     "output_type": "stream",
     "text": [
      "Accuracy: 0.20257060101375815\n",
      "              precision    recall  f1-score   support\n",
      "\n",
      "   Education       0.20      0.22      0.21      3271\n",
      "     Finance       0.20      0.29      0.24      3275\n",
      "      Health       0.21      0.20      0.21      3394\n",
      "   Lifestyle       0.20      0.13      0.16      3341\n",
      "  Technology       0.20      0.17      0.18      3291\n",
      "\n",
      "    accuracy                           0.20     16572\n",
      "   macro avg       0.20      0.20      0.20     16572\n",
      "weighted avg       0.20      0.20      0.20     16572\n",
      "\n"
     ]
    }
   ],
   "source": [
    "from sklearn.metrics import classification_report, accuracy_score\n",
    "\n",
    "# Evaluate model performance\n",
    "print(\"Accuracy:\", accuracy_score(y_test, y_pred))\n",
    "print(classification_report(y_test, y_pred))"
   ]
  },
  {
   "cell_type": "markdown",
   "id": "327c790a-06d6-49b1-ab73-ead76facfb1a",
   "metadata": {},
   "source": [
    "3. Sentiment Analysis\n",
    "•\tChoose a suitable library or method for performing sentiment analysis on the blog post texts.\n",
    "•\tAnalyze the sentiments expressed in the blog posts and categorize them as positive, negative, or neutral. Consider only the Data column and get the sentiment for each blog.\n",
    "•\tExamine the distribution of sentiments across different categories and summarize your findings\n"
   ]
  },
  {
   "cell_type": "markdown",
   "id": "de88320c-7d69-4d24-be44-a2def57eb265",
   "metadata": {},
   "source": [
    "Step 1: Choose a Sentiment Analysis Library\n",
    "You can use libraries such as TextBlob, VADER, or transformers from Hugging Face for sentiment analysis. For simplicity and effectiveness, we will use TextBlob, which is easy to implement.\n",
    "First, ensure you have the library installed:"
   ]
  },
  {
   "cell_type": "code",
   "execution_count": 14,
   "id": "88daa250-37d5-4dce-8125-2b5ea7b7c24f",
   "metadata": {},
   "outputs": [
    {
     "name": "stdout",
     "output_type": "stream",
     "text": [
      "Collecting textblob\n",
      "  Downloading textblob-0.18.0.post0-py3-none-any.whl.metadata (4.5 kB)\n",
      "Requirement already satisfied: nltk>=3.8 in c:\\programdata\\anaconda3\\lib\\site-packages (from textblob) (3.8.1)\n",
      "Requirement already satisfied: click in c:\\programdata\\anaconda3\\lib\\site-packages (from nltk>=3.8->textblob) (8.1.7)\n",
      "Requirement already satisfied: joblib in c:\\programdata\\anaconda3\\lib\\site-packages (from nltk>=3.8->textblob) (1.4.2)\n",
      "Requirement already satisfied: regex>=2021.8.3 in c:\\programdata\\anaconda3\\lib\\site-packages (from nltk>=3.8->textblob) (2023.10.3)\n",
      "Requirement already satisfied: tqdm in c:\\programdata\\anaconda3\\lib\\site-packages (from nltk>=3.8->textblob) (4.66.4)\n",
      "Requirement already satisfied: colorama in c:\\programdata\\anaconda3\\lib\\site-packages (from click->nltk>=3.8->textblob) (0.4.6)\n",
      "Downloading textblob-0.18.0.post0-py3-none-any.whl (626 kB)\n",
      "   ---------------------------------------- 0.0/626.3 kB ? eta -:--:--\n",
      "    --------------------------------------- 10.2/626.3 kB ? eta -:--:--\n",
      "   ----- --------------------------------- 81.9/626.3 kB 919.0 kB/s eta 0:00:01\n",
      "   ---------------------- ----------------- 358.4/626.3 kB 3.2 MB/s eta 0:00:01\n",
      "   ---------------------------- ----------- 440.3/626.3 kB 2.5 MB/s eta 0:00:01\n",
      "   ------------------------------------ --- 573.4/626.3 kB 2.6 MB/s eta 0:00:01\n",
      "   ---------------------------------------  624.6/626.3 kB 2.3 MB/s eta 0:00:01\n",
      "   ---------------------------------------  624.6/626.3 kB 2.3 MB/s eta 0:00:01\n",
      "   ---------------------------------------  624.6/626.3 kB 2.3 MB/s eta 0:00:01\n",
      "   ---------------------------------------  624.6/626.3 kB 2.3 MB/s eta 0:00:01\n",
      "   ---------------------------------------  624.6/626.3 kB 2.3 MB/s eta 0:00:01\n",
      "   ---------------------------------------  624.6/626.3 kB 2.3 MB/s eta 0:00:01\n",
      "   ---------------------------------------  624.6/626.3 kB 2.3 MB/s eta 0:00:01\n",
      "   ---------------------------------------- 626.3/626.3 kB 1.0 MB/s eta 0:00:00\n",
      "Installing collected packages: textblob\n",
      "Successfully installed textblob-0.18.0.post0\n",
      "Note: you may need to restart the kernel to use updated packages.\n"
     ]
    }
   ],
   "source": [
    "pip install textblob"
   ]
  },
  {
   "cell_type": "markdown",
   "id": "f9847d0c-d98d-415b-ae77-e30fb96fee77",
   "metadata": {},
   "source": [
    "Step 2: Perform Sentiment Analysis\n",
    "You will analyze the sentiments of the cleaned blog post texts. The TextBlob library provides a straightforward way to get sentiment polarity and subjectivity."
   ]
  },
  {
   "cell_type": "code",
   "execution_count": 15,
   "id": "21bea3b9-21dd-4b2d-95f5-bca4ba86e62e",
   "metadata": {},
   "outputs": [],
   "source": [
    "from textblob import TextBlob\n",
    "\n",
    "# Define a function to get sentiment\n",
    "def get_sentiment(text):\n",
    "    blob = TextBlob(text)\n",
    "    # Polarity ranges from -1 (negative) to 1 (positive)\n",
    "    return blob.sentiment.polarity\n",
    "\n",
    "# Apply the sentiment function to the processed data\n",
    "df['Sentiment'] = df['Processed_Data'].apply(get_sentiment)\n",
    "\n",
    "# Classify sentiments as positive, negative, or neutral based on polarity\n",
    "def classify_sentiment(polarity):\n",
    "    if polarity > 0:\n",
    "        return 'Positive'\n",
    "    elif polarity < 0:\n",
    "        return 'Negative'\n",
    "    else:\n",
    "        return 'Neutral'\n",
    "\n",
    "df['Sentiment_Label'] = df['Sentiment'].apply(classify_sentiment)"
   ]
  },
  {
   "cell_type": "markdown",
   "id": "fbb01af4-c68a-480a-b367-d5bc0ff65f49",
   "metadata": {},
   "source": [
    "Step 3: Analyze Sentiments Across Categories\n",
    "Now that you have classified sentiments for each blog post, you can analyze the distribution of sentiments across different categories."
   ]
  },
  {
   "cell_type": "code",
   "execution_count": 16,
   "id": "a5fd7cac-d9d4-4989-84d9-6becd81b8806",
   "metadata": {},
   "outputs": [
    {
     "name": "stdout",
     "output_type": "stream",
     "text": [
      "Sentiment_Label  Negative  Neutral  Positive\n",
      "Labels                                      \n",
      "Education            1648    12539      2489\n",
      "Finance              1582    12585      2535\n",
      "Health               1655    12595      2453\n",
      "Lifestyle            1499    12341      2442\n",
      "Technology           1583    12391      2519\n"
     ]
    },
    {
     "data": {
      "image/png": "[encoded data removed]",
      "text/plain": [
       "<Figure size 640x480 with 1 Axes>"
      ]
     },
     "metadata": {},
     "output_type": "display_data"
    }
   ],
   "source": [
    "# Group by category and sentiment label to get counts\n",
    "sentiment_distribution = df.groupby(['Labels', 'Sentiment_Label']).size().unstack(fill_value=0)\n",
    "\n",
    "# Display the distribution of sentiments across categories\n",
    "print(sentiment_distribution)\n",
    "\n",
    "# Optional: Visualize the sentiment distribution\n",
    "import matplotlib.pyplot as plt\n",
    "\n",
    "sentiment_distribution.plot(kind='bar', stacked=True)\n",
    "plt.title('Sentiment Distribution Across Categories')\n",
    "plt.xlabel('Categories')\n",
    "plt.ylabel('Number of Posts')\n",
    "plt.legend(title='Sentiment')\n",
    "plt.show()"
   ]
  },
  {
   "cell_type": "markdown",
   "id": "94806210-1f0f-4572-869a-b552aad4676b",
   "metadata": {},
   "source": [
    "Step 4: Summarize Findings\n",
    "After analyzing the sentiments, summarize your findings regarding how sentiments are distributed across different categories. You may want to highlight:\n",
    "The most common sentiment in each category.\n",
    "Any notable trends or patterns observed.\n",
    "Insights into how the content relates to the sentiments expressed.\n",
    "Example Summary:\n",
    "Technology: Predominantly positive sentiments, indicating a favorable view of technological advancements.\n",
    "Health: Mixed sentiments with a notable number of negative posts possibly discussing health challenges.\n",
    "Lifestyle: Generally positive, reflecting enjoyment and satisfaction with lifestyle topics."
   ]
  },
  {
   "cell_type": "markdown",
   "id": "b942206a-0fc6-4a1f-a5a8-158e71a1d410",
   "metadata": {},
   "source": [
    "4. Evaluation\n",
    "•\tEvaluate the performance of your Naive Bayes classifier using metrics such as accuracy, precision, recall, and F1-score.\n",
    "•\tDiscuss the performance of the model and any challenges encountered during the classification process.\n",
    "•\tReflect on the sentiment analysis results and their implications regarding the content of the blog posts.\n"
   ]
  },
  {
   "cell_type": "markdown",
   "id": "43004382-1355-443c-bc1e-2ae21e67d459",
   "metadata": {},
   "source": [
    "Step 1: Evaluate Model Performance\n",
    "You can use the classification_report function from sklearn.metrics to obtain a comprehensive evaluation of your model's performance.\n",
    "Here’s how to evaluate the Naive Bayes classifier:"
   ]
  },
  {
   "cell_type": "code",
   "execution_count": 17,
   "id": "f1dbfdea-3b26-445d-92b4-37440d7a48cc",
   "metadata": {},
   "outputs": [
    {
     "name": "stdout",
     "output_type": "stream",
     "text": [
      "Accuracy: 0.20257060101375815\n",
      "Classification Report:\n",
      "               precision    recall  f1-score   support\n",
      "\n",
      "   Education       0.20      0.22      0.21      3271\n",
      "     Finance       0.20      0.29      0.24      3275\n",
      "      Health       0.21      0.20      0.21      3394\n",
      "   Lifestyle       0.20      0.13      0.16      3341\n",
      "  Technology       0.20      0.17      0.18      3291\n",
      "\n",
      "    accuracy                           0.20     16572\n",
      "   macro avg       0.20      0.20      0.20     16572\n",
      "weighted avg       0.20      0.20      0.20     16572\n",
      "\n",
      "Confusion Matrix:\n",
      " [[719 915 683 398 556]\n",
      " [684 951 651 440 549]\n",
      " [744 955 689 407 599]\n",
      " [734 935 637 432 603]\n",
      " [680 944 660 441 566]]\n"
     ]
    },
    {
     "data": {
      "image/png": "[encoded data removed]",
      "text/plain": [
       "<Figure size 1000x700 with 2 Axes>"
      ]
     },
     "metadata": {},
     "output_type": "display_data"
    }
   ],
   "source": [
    "from sklearn.metrics import classification_report, accuracy_score, confusion_matrix\n",
    "\n",
    "# Evaluate model performance\n",
    "accuracy = accuracy_score(y_test, y_pred)\n",
    "print(\"Accuracy:\", accuracy)\n",
    "\n",
    "# Generate classification report\n",
    "report = classification_report(y_test, y_pred)\n",
    "print(\"Classification Report:\\n\", report)\n",
    "\n",
    "# Generate confusion matrix for a visual representation\n",
    "conf_matrix = confusion_matrix(y_test, y_pred)\n",
    "print(\"Confusion Matrix:\\n\", conf_matrix)\n",
    "\n",
    "# Optional: Visualize the confusion matrix\n",
    "import seaborn as sns\n",
    "\n",
    "plt.figure(figsize=(10, 7))\n",
    "sns.heatmap(conf_matrix, annot=True, fmt='d', cmap='Blues', \n",
    "            xticklabels=np.unique(y_test), yticklabels=np.unique(y_test))\n",
    "plt.title('Confusion Matrix')\n",
    "plt.xlabel('Predicted Labels')\n",
    "plt.ylabel('True Labels')\n",
    "plt.show()"
   ]
  },
  {
   "cell_type": "markdown",
   "id": "22679a70-4880-4014-bec9-70efcc3df750",
   "metadata": {},
   "source": [
    "Step 2: Discuss Model Performance\n",
    "After generating the evaluation metrics, discuss the following points in your report:\n",
    "Accuracy: This metric indicates the overall correctness of the model. A higher accuracy means better performance.\n",
    "Precision: Precision measures how many of the predicted positive instances were actually positive. It is crucial when the cost of false positives is high.\n",
    "Recall: Recall measures how many actual positive instances were correctly identified. It is important when the cost of false negatives is high.\n",
    "F1-Score: The F1-score is the harmonic mean of precision and recall. It provides a balance between both metrics and is useful when you need to account for both false positives and false negatives.\n",
    "Confusion Matrix: Analyze the confusion matrix to see where your model is making mistakes (e.g., misclassifying certain categories).\n",
    "Example Discussion Points:\n",
    "If your model achieved an accuracy of around 80%, it indicates that it correctly classified 80% of the blog posts.\n",
    "If precision for a specific category is low, it might suggest that many posts predicted as that category are actually from other categories.\n",
    "High recall but low precision could indicate that while your model captures most relevant posts, it also includes many irrelevant ones.\n",
    "\n",
    "\n",
    "\n",
    "Conclusion:\n",
    "In this task,  successfully evaluated your Naive Bayes classifier using various performance metrics. The insights gained from this evaluation will help you understand the strengths and weaknesses of your model and guide further improvements if necessary.\n"
   ]
  },
  {
   "cell_type": "markdown",
   "id": "8904ea2f-0436-497c-a026-fe5f5cd7de23",
   "metadata": {},
   "source": [
    "Depth and Insightfulness of the Sentiment Analysis\n",
    "1. Comprehensive Sentiment Analysis\n",
    "Polarity and Subjectivity: Discuss not only the polarity (positive, negative, neutral) but also the subjectivity scores that indicate how subjective or objective the content is. This can provide insights into whether the posts are expressing opinions or factual information.\n",
    "Sentiment Distribution: Analyze how sentiments vary across different categories. For instance, if technology-related posts tend to be more positive, explore why that might be—are they discussing innovations, success stories, or challenges?\n",
    "2. Trends Over Time\n",
    "If your dataset spans a significant period, consider analyzing how sentiments have changed over time. Are there spikes in positivity or negativity associated with specific events or trends in the blogosphere?\n",
    "3. Correlation with Categories\n",
    "Examine whether certain categories consistently show particular sentiment trends. For example, do health-related posts tend to be more negative due to discussions around issues or challenges? This can provide deeper insights into public perception of those topics.\n",
    "4. Qualitative Insights\n",
    "Include specific examples from the dataset that illustrate key points in your sentiment analysis. Highlight particularly positive or negative posts and discuss their content and context.\n",
    "Clarity and Thoroughness of Evaluation and Discussion Sections\n",
    "1. Evaluation Metrics\n",
    "Clearly define each evaluation metric you used (accuracy, precision, recall, F1-score) in your report. Explain why each metric is important for your analysis.\n",
    "Use visual aids such as confusion matrices to help illustrate where your model performed well or struggled. This visual representation can clarify your findings for readers.\n",
    "2. Detailed Discussion of Results\n",
    "Discuss not just the overall accuracy but also delve into class-specific performance. For example, if one category had low precision, discuss potential reasons (e.g., similar wording across categories leading to misclassification).\n",
    "Reflect on any challenges encountered during classification and sentiment analysis. Were there ambiguous posts? Did certain categories overlap significantly?\n",
    "3. Implications of Findings\n",
    "Discuss what the results mean in a broader context. How do they reflect on public sentiment regarding the topics covered in your blogs? What implications could this have for content creators or marketers?\n",
    "4. Future Work\n",
    "Suggest areas for improvement in both the classification model and sentiment analysis approaches. Would using more advanced models (like deep learning) yield better results? Could additional preprocessing steps improve accuracy?"
   ]
  },
  {
   "cell_type": "markdown",
   "id": "21ec66a0-770d-44ee-8def-98246ffb1f78",
   "metadata": {},
   "source": [
    "\n",
    "To provide a more insightful sentiment analysis of the blog posts from the \"blogs.docx\" file, we will focus on several key aspects, including sentiment polarity, subjectivity, trends across categories, and qualitative insights. Here’s a structured approach to enhance the depth of your sentiment analysis:\n",
    "Enhanced Sentiment Analysis of Blog Posts\n",
    "1. Sentiment Polarity and Subjectivity\n",
    "Polarity Scores: Each blog post can be assigned a polarity score ranging from -1 (very negative) to +1 (very positive). This score reflects the overall sentiment expressed in the text.\n",
    "Subjectivity Scores: Along with polarity, subjectivity scores range from 0 (objective) to 1 (subjective). Analyzing these scores can help identify whether the posts are more opinion-based or factual.\n",
    "2. Sentiment Distribution by Category\n",
    "Category Analysis: Analyze how sentiments are distributed across different categories. For example:\n",
    "Technology: Typically positive sentiments might indicate excitement about innovations.\n",
    "Health: Mixed sentiments could reflect discussions about challenges and advancements in healthcare.\n",
    "Lifestyle: Generally positive sentiments may suggest satisfaction with lifestyle choices."
   ]
  },
  {
   "cell_type": "code",
   "execution_count": 18,
   "id": "be12204c-f5ae-449a-a0c2-331345a523d9",
   "metadata": {},
   "outputs": [
    {
     "name": "stderr",
     "output_type": "stream",
     "text": [
      "C:\\Users\\DELL\\AppData\\Local\\Temp\\ipykernel_4460\\3620554187.py:9: FutureWarning: \n",
      "\n",
      "Passing `palette` without assigning `hue` is deprecated and will be removed in v0.14.0. Assign the `x` variable to `hue` and set `legend=False` for the same effect.\n",
      "\n",
      "  sns.barplot(x=category_sentiment.index, y=category_sentiment['Sentiment'], palette='viridis')\n"
     ]
    },
    {
     "data": {
      "image/png": "[encoded data removed]",
      "text/plain": [
       "<Figure size 1000x600 with 1 Axes>"
      ]
     },
     "metadata": {},
     "output_type": "display_data"
    }
   ],
   "source": [
    "import seaborn as sns\n",
    "import matplotlib.pyplot as plt\n",
    "\n",
    "# Group by category and calculate average polarity and subjectivity\n",
    "category_sentiment = df.groupby('Labels').agg({'Sentiment': 'mean', 'Sentiment_Label': lambda x: x.value_counts().idxmax()})\n",
    "\n",
    "# Visualize average sentiment by category\n",
    "plt.figure(figsize=(10, 6))\n",
    "sns.barplot(x=category_sentiment.index, y=category_sentiment['Sentiment'], palette='viridis')\n",
    "plt.title('Average Sentiment Polarity by Category')\n",
    "plt.xlabel('Categories')\n",
    "plt.ylabel('Average Polarity')\n",
    "plt.axhline(0, color='red', linestyle='--')  # Line at zero for reference\n",
    "plt.show()"
   ]
  },
  {
   "cell_type": "markdown",
   "id": "35a25a9f-449c-43ce-813b-c0c911678e7f",
   "metadata": {},
   "source": [
    "3. Trends Over Time\n",
    "If  dataset includes timestamps or if you can infer a timeline, analyze how sentiments have changed over time. Are there specific periods where sentiments were particularly high or low? This could correlate with real-world events or trends.\n",
    "4. Qualitative Insights\n",
    "Highlight Specific Posts: Identify particularly representative blog posts that exemplify positive or negative sentiments. Discuss their content and context to provide qualitative insights.\n",
    "Common Themes: Look for recurring themes in the posts that correlate with sentiment. For instance, are there common phrases or topics that lead to more negative sentiments?\n",
    "5. Correlation with External Events\n",
    "Consider correlating sentiment trends with external events or news that might have influenced public opinion reflected in the blogs. For example, if a major technological advancement was announced, did the sentiment in technology blogs spike positively?\n",
    "6. Comparative Analysis\n",
    "Compare the sentiment analysis results with previous studies or datasets if available. This can provide context and highlight whether your findings are consistent with broader trends.\n",
    "Conclusion\n",
    "By incorporating these elements into your sentiment analysis of the blog posts from \"blogs.docx,\"  will gain a deeper understanding of how sentiments vary across different topics and how they reflect public opinion. This comprehensive approach not only quantifies sentiments but also provides qualitative insights that can inform content strategies and further research."
   ]
  },
  {
   "cell_type": "code",
   "execution_count": null,
   "id": "967629f2-b211-415b-ab78-78ca4d705887",
   "metadata": {},
   "outputs": [],
   "source": []
  }
 ],
 "metadata": {
  "kernelspec": {
   "display_name": "Python 3 (ipykernel)",
   "language": "python",
   "name": "python3"
  },
  "language_info": {
   "codemirror_mode": {
    "name": "ipython",
    "version": 3
   },
   "file_extension": ".py",
   "mimetype": "text/x-python",
   "name": "python",
   "nbconvert_exporter": "python",
   "pygments_lexer": "ipython3",
   "version": "3.12.4"
  }
 },
 "nbformat": 4,
 "nbformat_minor": 5
}
