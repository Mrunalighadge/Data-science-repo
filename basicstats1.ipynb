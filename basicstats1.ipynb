{
 "cells": [
  {
   "cell_type": "code",
   "execution_count": 137,
   "id": "a9e318ca-82fe-45e4-bcae-3d75cee12a8d",
   "metadata": {},
   "outputs": [],
   "source": [
    "import pandas as pd\n"
   ]
  },
  {
   "cell_type": "code",
   "execution_count": 138,
   "id": "c7dba673-26a3-4e3f-84ef-32e58e0bc85d",
   "metadata": {},
   "outputs": [],
   "source": [
    "df=pd.read_csv('C:/Users/DELL/Downloads/Basic stats - 1/Basic stats - 1/sales_data_with_discounts.csv')"
   ]
  },
  {
   "cell_type": "code",
   "execution_count": 139,
   "id": "b9fcc64c-8628-4867-9d48-a65f5efc7541",
   "metadata": {},
   "outputs": [
    {
     "data": {
      "text/html": [
       "<div>\n",
       "<style scoped>\n",
       "    .dataframe tbody tr th:only-of-type {\n",
       "        vertical-align: middle;\n",
       "    }\n",
       "\n",
       "    .dataframe tbody tr th {\n",
       "        vertical-align: top;\n",
       "    }\n",
       "\n",
       "    .dataframe thead th {\n",
       "        text-align: right;\n",
       "    }\n",
       "</style>\n",
       "<table border=\"1\" class=\"dataframe\">\n",
       "  <thead>\n",
       "    <tr style=\"text-align: right;\">\n",
       "      <th></th>\n",
       "      <th>Date</th>\n",
       "      <th>Day</th>\n",
       "      <th>SKU</th>\n",
       "      <th>City</th>\n",
       "      <th>Volume</th>\n",
       "      <th>BU</th>\n",
       "      <th>Brand</th>\n",
       "      <th>Model</th>\n",
       "      <th>Avg Price</th>\n",
       "      <th>Total Sales Value</th>\n",
       "      <th>Discount Rate (%)</th>\n",
       "      <th>Discount Amount</th>\n",
       "      <th>Net Sales Value</th>\n",
       "    </tr>\n",
       "  </thead>\n",
       "  <tbody>\n",
       "    <tr>\n",
       "      <th>0</th>\n",
       "      <td>01-04-2021</td>\n",
       "      <td>Thursday</td>\n",
       "      <td>M01</td>\n",
       "      <td>C</td>\n",
       "      <td>15</td>\n",
       "      <td>Mobiles</td>\n",
       "      <td>RealU</td>\n",
       "      <td>RU-10</td>\n",
       "      <td>12100</td>\n",
       "      <td>181500</td>\n",
       "      <td>11.654820</td>\n",
       "      <td>21153.498820</td>\n",
       "      <td>160346.501180</td>\n",
       "    </tr>\n",
       "    <tr>\n",
       "      <th>1</th>\n",
       "      <td>01-04-2021</td>\n",
       "      <td>Thursday</td>\n",
       "      <td>M02</td>\n",
       "      <td>C</td>\n",
       "      <td>10</td>\n",
       "      <td>Mobiles</td>\n",
       "      <td>RealU</td>\n",
       "      <td>RU-9 Plus</td>\n",
       "      <td>10100</td>\n",
       "      <td>101000</td>\n",
       "      <td>11.560498</td>\n",
       "      <td>11676.102961</td>\n",
       "      <td>89323.897039</td>\n",
       "    </tr>\n",
       "    <tr>\n",
       "      <th>2</th>\n",
       "      <td>01-04-2021</td>\n",
       "      <td>Thursday</td>\n",
       "      <td>M03</td>\n",
       "      <td>C</td>\n",
       "      <td>7</td>\n",
       "      <td>Mobiles</td>\n",
       "      <td>YouM</td>\n",
       "      <td>YM-99</td>\n",
       "      <td>16100</td>\n",
       "      <td>112700</td>\n",
       "      <td>9.456886</td>\n",
       "      <td>10657.910157</td>\n",
       "      <td>102042.089843</td>\n",
       "    </tr>\n",
       "    <tr>\n",
       "      <th>3</th>\n",
       "      <td>01-04-2021</td>\n",
       "      <td>Thursday</td>\n",
       "      <td>M04</td>\n",
       "      <td>C</td>\n",
       "      <td>6</td>\n",
       "      <td>Mobiles</td>\n",
       "      <td>YouM</td>\n",
       "      <td>YM-99 Plus</td>\n",
       "      <td>20100</td>\n",
       "      <td>120600</td>\n",
       "      <td>6.935385</td>\n",
       "      <td>8364.074702</td>\n",
       "      <td>112235.925298</td>\n",
       "    </tr>\n",
       "    <tr>\n",
       "      <th>4</th>\n",
       "      <td>01-04-2021</td>\n",
       "      <td>Thursday</td>\n",
       "      <td>M05</td>\n",
       "      <td>C</td>\n",
       "      <td>3</td>\n",
       "      <td>Mobiles</td>\n",
       "      <td>YouM</td>\n",
       "      <td>YM-98</td>\n",
       "      <td>8100</td>\n",
       "      <td>24300</td>\n",
       "      <td>17.995663</td>\n",
       "      <td>4372.946230</td>\n",
       "      <td>19927.053770</td>\n",
       "    </tr>\n",
       "    <tr>\n",
       "      <th>...</th>\n",
       "      <td>...</td>\n",
       "      <td>...</td>\n",
       "      <td>...</td>\n",
       "      <td>...</td>\n",
       "      <td>...</td>\n",
       "      <td>...</td>\n",
       "      <td>...</td>\n",
       "      <td>...</td>\n",
       "      <td>...</td>\n",
       "      <td>...</td>\n",
       "      <td>...</td>\n",
       "      <td>...</td>\n",
       "      <td>...</td>\n",
       "    </tr>\n",
       "    <tr>\n",
       "      <th>445</th>\n",
       "      <td>15-04-2021</td>\n",
       "      <td>Thursday</td>\n",
       "      <td>L06</td>\n",
       "      <td>C</td>\n",
       "      <td>2</td>\n",
       "      <td>Lifestyle</td>\n",
       "      <td>Jeera</td>\n",
       "      <td>M-Casuals</td>\n",
       "      <td>1300</td>\n",
       "      <td>2600</td>\n",
       "      <td>15.475687</td>\n",
       "      <td>402.367873</td>\n",
       "      <td>2197.632127</td>\n",
       "    </tr>\n",
       "    <tr>\n",
       "      <th>446</th>\n",
       "      <td>15-04-2021</td>\n",
       "      <td>Thursday</td>\n",
       "      <td>L07</td>\n",
       "      <td>C</td>\n",
       "      <td>6</td>\n",
       "      <td>Lifestyle</td>\n",
       "      <td>Viva</td>\n",
       "      <td>W-Western</td>\n",
       "      <td>2600</td>\n",
       "      <td>15600</td>\n",
       "      <td>17.057027</td>\n",
       "      <td>2660.896242</td>\n",
       "      <td>12939.103758</td>\n",
       "    </tr>\n",
       "    <tr>\n",
       "      <th>447</th>\n",
       "      <td>15-04-2021</td>\n",
       "      <td>Thursday</td>\n",
       "      <td>L08</td>\n",
       "      <td>C</td>\n",
       "      <td>2</td>\n",
       "      <td>Lifestyle</td>\n",
       "      <td>Viva</td>\n",
       "      <td>W-Lounge</td>\n",
       "      <td>1600</td>\n",
       "      <td>3200</td>\n",
       "      <td>18.965550</td>\n",
       "      <td>606.897606</td>\n",
       "      <td>2593.102394</td>\n",
       "    </tr>\n",
       "    <tr>\n",
       "      <th>448</th>\n",
       "      <td>15-04-2021</td>\n",
       "      <td>Thursday</td>\n",
       "      <td>L09</td>\n",
       "      <td>C</td>\n",
       "      <td>3</td>\n",
       "      <td>Lifestyle</td>\n",
       "      <td>Jeera</td>\n",
       "      <td>M-Formals</td>\n",
       "      <td>1900</td>\n",
       "      <td>5700</td>\n",
       "      <td>16.793014</td>\n",
       "      <td>957.201826</td>\n",
       "      <td>4742.798174</td>\n",
       "    </tr>\n",
       "    <tr>\n",
       "      <th>449</th>\n",
       "      <td>15-04-2021</td>\n",
       "      <td>Thursday</td>\n",
       "      <td>L10</td>\n",
       "      <td>C</td>\n",
       "      <td>1</td>\n",
       "      <td>Lifestyle</td>\n",
       "      <td>Jeera</td>\n",
       "      <td>M-Shoes</td>\n",
       "      <td>3100</td>\n",
       "      <td>3100</td>\n",
       "      <td>15.333300</td>\n",
       "      <td>475.332295</td>\n",
       "      <td>2624.667705</td>\n",
       "    </tr>\n",
       "  </tbody>\n",
       "</table>\n",
       "<p>450 rows × 13 columns</p>\n",
       "</div>"
      ],
      "text/plain": [
       "           Date       Day  SKU City  Volume         BU  Brand       Model  \\\n",
       "0    01-04-2021  Thursday  M01    C      15    Mobiles  RealU       RU-10   \n",
       "1    01-04-2021  Thursday  M02    C      10    Mobiles  RealU   RU-9 Plus   \n",
       "2    01-04-2021  Thursday  M03    C       7    Mobiles   YouM       YM-99   \n",
       "3    01-04-2021  Thursday  M04    C       6    Mobiles   YouM  YM-99 Plus   \n",
       "4    01-04-2021  Thursday  M05    C       3    Mobiles   YouM      YM-98    \n",
       "..          ...       ...  ...  ...     ...        ...    ...         ...   \n",
       "445  15-04-2021  Thursday  L06    C       2  Lifestyle  Jeera   M-Casuals   \n",
       "446  15-04-2021  Thursday  L07    C       6  Lifestyle   Viva   W-Western   \n",
       "447  15-04-2021  Thursday  L08    C       2  Lifestyle   Viva    W-Lounge   \n",
       "448  15-04-2021  Thursday  L09    C       3  Lifestyle  Jeera   M-Formals   \n",
       "449  15-04-2021  Thursday  L10    C       1  Lifestyle  Jeera     M-Shoes   \n",
       "\n",
       "     Avg Price  Total Sales Value  Discount Rate (%)  Discount Amount  \\\n",
       "0        12100             181500          11.654820     21153.498820   \n",
       "1        10100             101000          11.560498     11676.102961   \n",
       "2        16100             112700           9.456886     10657.910157   \n",
       "3        20100             120600           6.935385      8364.074702   \n",
       "4         8100              24300          17.995663      4372.946230   \n",
       "..         ...                ...                ...              ...   \n",
       "445       1300               2600          15.475687       402.367873   \n",
       "446       2600              15600          17.057027      2660.896242   \n",
       "447       1600               3200          18.965550       606.897606   \n",
       "448       1900               5700          16.793014       957.201826   \n",
       "449       3100               3100          15.333300       475.332295   \n",
       "\n",
       "     Net Sales Value  \n",
       "0      160346.501180  \n",
       "1       89323.897039  \n",
       "2      102042.089843  \n",
       "3      112235.925298  \n",
       "4       19927.053770  \n",
       "..               ...  \n",
       "445      2197.632127  \n",
       "446     12939.103758  \n",
       "447      2593.102394  \n",
       "448      4742.798174  \n",
       "449      2624.667705  \n",
       "\n",
       "[450 rows x 13 columns]"
      ]
     },
     "execution_count": 139,
     "metadata": {},
     "output_type": "execute_result"
    }
   ],
   "source": [
    "df\n"
   ]
  },
  {
   "cell_type": "code",
   "execution_count": 140,
   "id": "e5aa4dac-0ccc-4570-9819-d3125ee1cce2",
   "metadata": {},
   "outputs": [
    {
     "name": "stdout",
     "output_type": "stream",
     "text": [
      "Date                  object\n",
      "Day                   object\n",
      "SKU                   object\n",
      "City                  object\n",
      "Volume                 int64\n",
      "BU                    object\n",
      "Brand                 object\n",
      "Model                 object\n",
      "Avg Price              int64\n",
      "Total Sales Value      int64\n",
      "Discount Rate (%)    float64\n",
      "Discount Amount      float64\n",
      "Net Sales Value      float64\n",
      "dtype: object\n"
     ]
    }
   ],
   "source": [
    "#From this we can find all numerical columns\n",
    "print(df.dtypes)\n"
   ]
  },
  {
   "cell_type": "code",
   "execution_count": 141,
   "id": "ad54cf61-6562-45fe-b475-9231b033edf7",
   "metadata": {},
   "outputs": [
    {
     "data": {
      "text/html": [
       "<div>\n",
       "<style scoped>\n",
       "    .dataframe tbody tr th:only-of-type {\n",
       "        vertical-align: middle;\n",
       "    }\n",
       "\n",
       "    .dataframe tbody tr th {\n",
       "        vertical-align: top;\n",
       "    }\n",
       "\n",
       "    .dataframe thead th {\n",
       "        text-align: right;\n",
       "    }\n",
       "</style>\n",
       "<table border=\"1\" class=\"dataframe\">\n",
       "  <thead>\n",
       "    <tr style=\"text-align: right;\">\n",
       "      <th></th>\n",
       "      <th>Volume</th>\n",
       "      <th>Avg Price</th>\n",
       "      <th>Total Sales Value</th>\n",
       "      <th>Discount Rate (%)</th>\n",
       "      <th>Discount Amount</th>\n",
       "      <th>Net Sales Value</th>\n",
       "    </tr>\n",
       "  </thead>\n",
       "  <tbody>\n",
       "    <tr>\n",
       "      <th>count</th>\n",
       "      <td>450.000000</td>\n",
       "      <td>450.000000</td>\n",
       "      <td>450.000000</td>\n",
       "      <td>450.000000</td>\n",
       "      <td>450.000000</td>\n",
       "      <td>450.000000</td>\n",
       "    </tr>\n",
       "    <tr>\n",
       "      <th>mean</th>\n",
       "      <td>5.066667</td>\n",
       "      <td>10453.433333</td>\n",
       "      <td>33812.835556</td>\n",
       "      <td>15.155242</td>\n",
       "      <td>3346.499424</td>\n",
       "      <td>30466.336131</td>\n",
       "    </tr>\n",
       "    <tr>\n",
       "      <th>std</th>\n",
       "      <td>4.231602</td>\n",
       "      <td>18079.904840</td>\n",
       "      <td>50535.074173</td>\n",
       "      <td>4.220602</td>\n",
       "      <td>4509.902963</td>\n",
       "      <td>46358.656624</td>\n",
       "    </tr>\n",
       "    <tr>\n",
       "      <th>min</th>\n",
       "      <td>1.000000</td>\n",
       "      <td>290.000000</td>\n",
       "      <td>400.000000</td>\n",
       "      <td>5.007822</td>\n",
       "      <td>69.177942</td>\n",
       "      <td>326.974801</td>\n",
       "    </tr>\n",
       "    <tr>\n",
       "      <th>25%</th>\n",
       "      <td>3.000000</td>\n",
       "      <td>465.000000</td>\n",
       "      <td>2700.000000</td>\n",
       "      <td>13.965063</td>\n",
       "      <td>460.459304</td>\n",
       "      <td>2202.208645</td>\n",
       "    </tr>\n",
       "    <tr>\n",
       "      <th>50%</th>\n",
       "      <td>4.000000</td>\n",
       "      <td>1450.000000</td>\n",
       "      <td>5700.000000</td>\n",
       "      <td>16.577766</td>\n",
       "      <td>988.933733</td>\n",
       "      <td>4677.788059</td>\n",
       "    </tr>\n",
       "    <tr>\n",
       "      <th>75%</th>\n",
       "      <td>6.000000</td>\n",
       "      <td>10100.000000</td>\n",
       "      <td>53200.000000</td>\n",
       "      <td>18.114718</td>\n",
       "      <td>5316.495427</td>\n",
       "      <td>47847.912852</td>\n",
       "    </tr>\n",
       "    <tr>\n",
       "      <th>max</th>\n",
       "      <td>31.000000</td>\n",
       "      <td>60100.000000</td>\n",
       "      <td>196400.000000</td>\n",
       "      <td>19.992407</td>\n",
       "      <td>25738.022194</td>\n",
       "      <td>179507.479049</td>\n",
       "    </tr>\n",
       "  </tbody>\n",
       "</table>\n",
       "</div>"
      ],
      "text/plain": [
       "           Volume     Avg Price  Total Sales Value  Discount Rate (%)  \\\n",
       "count  450.000000    450.000000         450.000000         450.000000   \n",
       "mean     5.066667  10453.433333       33812.835556          15.155242   \n",
       "std      4.231602  18079.904840       50535.074173           4.220602   \n",
       "min      1.000000    290.000000         400.000000           5.007822   \n",
       "25%      3.000000    465.000000        2700.000000          13.965063   \n",
       "50%      4.000000   1450.000000        5700.000000          16.577766   \n",
       "75%      6.000000  10100.000000       53200.000000          18.114718   \n",
       "max     31.000000  60100.000000      196400.000000          19.992407   \n",
       "\n",
       "       Discount Amount  Net Sales Value  \n",
       "count       450.000000       450.000000  \n",
       "mean       3346.499424     30466.336131  \n",
       "std        4509.902963     46358.656624  \n",
       "min          69.177942       326.974801  \n",
       "25%         460.459304      2202.208645  \n",
       "50%         988.933733      4677.788059  \n",
       "75%        5316.495427     47847.912852  \n",
       "max       25738.022194    179507.479049  "
      ]
     },
     "execution_count": 141,
     "metadata": {},
     "output_type": "execute_result"
    }
   ],
   "source": [
    "df.describe()\n"
   ]
  },
  {
   "cell_type": "code",
   "execution_count": 142,
   "id": "003d40c7-12b4-4b4a-8ebe-95f046c6ec18",
   "metadata": {},
   "outputs": [],
   "source": [
    "\n",
    "mean_val=df[['Volume','Avg Price','Total Sales Value','Discount Rate (%)','Discount Amount','Net Sales Value']].mean()\n",
    "#print(mean_val)"
   ]
  },
  {
   "cell_type": "code",
   "execution_count": 143,
   "id": "9d8f9c0b-8b9a-4445-a623-bbba559d4fb0",
   "metadata": {},
   "outputs": [
    {
     "name": "stdout",
     "output_type": "stream",
     "text": [
      "Volume                   5.066667\n",
      "Avg Price            10453.433333\n",
      "Total Sales Value    33812.835556\n",
      "Discount Rate (%)       15.155242\n",
      "Discount Amount       3346.499424\n",
      "Net Sales Value      30466.336131\n",
      "dtype: float64\n"
     ]
    }
   ],
   "source": [
    "print(mean_val)"
   ]
  },
  {
   "cell_type": "code",
   "execution_count": 144,
   "id": "e0b2d873-9c95-4da8-b7a3-824d3a91619f",
   "metadata": {},
   "outputs": [
    {
     "data": {
      "text/plain": [
       "'\\nheres the interpretation:\\nMean: The average value of each numerical column. It provides a measure of the central tendency of the data.\\nInterpretation: A higher mean indicates higher average values for that column. For example, if a column represents sales figures, a higher mean suggests higher average sales.\\n\\nVolume: The mean volume is approximately 5.07 units. This suggests that, on average, this much quantity (or volume) is being sold or measured across your dataset.\\n\\nAvg Price: The mean average price is around 10,453.43 currency units. This indicates that, on average, the price of products or items in your dataset is close to this amount.\\n\\nTotal Sales Value: The mean total sales value is about 33,812.84 currency units. This represents the average total monetary value generated from sales transactions within your dataset.\\n\\nDiscount Rate (%): The mean discount rate is approximately 15.16%. This average discount rate is applied to reduce the price or value of products or services within your dataset.\\n\\nDiscount Amount: The mean discount amount is around 3,346.50 currency units. This reflects the average monetary value discounted from total sales due to applied discount rates.\\n\\nNet Sales Value: The mean net sales value is about 30,466.34 currency units. This represents the average revenue or sales value remaining after subtracting discounts from the total sales value\\n'"
      ]
     },
     "execution_count": 144,
     "metadata": {},
     "output_type": "execute_result"
    }
   ],
   "source": [
    "'''\n",
    "heres the interpretation:\n",
    "Mean: The average value of each numerical column. It provides a measure of the central tendency of the data.\n",
    "Interpretation: A higher mean indicates higher average values for that column. For example, if a column represents sales figures, a higher mean suggests higher average sales.\n",
    "\n",
    "Volume: The mean volume is approximately 5.07 units. This suggests that, on average, this much quantity (or volume) is being sold or measured across your dataset.\n",
    "\n",
    "Avg Price: The mean average price is around 10,453.43 currency units. This indicates that, on average, the price of products or items in your dataset is close to this amount.\n",
    "\n",
    "Total Sales Value: The mean total sales value is about 33,812.84 currency units. This represents the average total monetary value generated from sales transactions within your dataset.\n",
    "\n",
    "Discount Rate (%): The mean discount rate is approximately 15.16%. This average discount rate is applied to reduce the price or value of products or services within your dataset.\n",
    "\n",
    "Discount Amount: The mean discount amount is around 3,346.50 currency units. This reflects the average monetary value discounted from total sales due to applied discount rates.\n",
    "\n",
    "Net Sales Value: The mean net sales value is about 30,466.34 currency units. This represents the average revenue or sales value remaining after subtracting discounts from the total sales value\n",
    "'''"
   ]
  },
  {
   "cell_type": "code",
   "execution_count": 145,
   "id": "ec65810a-d0cc-4e13-b809-6f8488787383",
   "metadata": {},
   "outputs": [],
   "source": [
    "mode_val=df[['Date','Day','SKU','BU','Brand','Model']].mode()"
   ]
  },
  {
   "cell_type": "code",
   "execution_count": 146,
   "id": "51c0559a-1b84-4020-87d7-af0e81611d19",
   "metadata": {},
   "outputs": [
    {
     "name": "stdout",
     "output_type": "stream",
     "text": [
      "          Date       Day  SKU         BU  Brand           Model\n",
      "0   01-04-2021  Thursday  F01       FMCG  Jeera    Babaji Cream\n",
      "1   02-04-2021       NaN  F02  Lifestyle    NaN     Babaji Oil \n",
      "2   03-04-2021       NaN  F03    Mobiles    NaN  Babaji Shampoo\n",
      "3   04-04-2021       NaN  F04        NaN    NaN   Gear BB Cream\n",
      "4   05-04-2021       NaN  F05        NaN    NaN      Gear Cream\n",
      "5   06-04-2021       NaN  F06        NaN    NaN        Gear Oil\n",
      "6   07-04-2021       NaN  F07        NaN    NaN    Gear Shampoo\n",
      "7   08-04-2021       NaN  F08        NaN    NaN       M- Inners\n",
      "8   09-04-2021       NaN  F09        NaN    NaN     M- T Shirts\n",
      "9   10-04-2021       NaN  F10        NaN    NaN       M-Casuals\n",
      "10  11-04-2021       NaN  L01        NaN    NaN       M-Formals\n",
      "11  12-04-2021       NaN  L02        NaN    NaN         M-Jeans\n",
      "12  13-04-2021       NaN  L03        NaN    NaN         M-Shoes\n",
      "13  14-04-2021       NaN  L04        NaN    NaN            O-10\n",
      "14  15-04-2021       NaN  L05        NaN    NaN            O-11\n",
      "15         NaN       NaN  L06        NaN    NaN           RU-10\n",
      "16         NaN       NaN  L07        NaN    NaN            RU-9\n",
      "17         NaN       NaN  L08        NaN    NaN       RU-9 Plus\n",
      "18         NaN       NaN  L09        NaN    NaN            S-20\n",
      "19         NaN       NaN  L10        NaN    NaN            S-21\n",
      "20         NaN       NaN  M01        NaN    NaN     Vedic Cream\n",
      "21         NaN       NaN  M02        NaN    NaN       Vedic Oil\n",
      "22         NaN       NaN  M03        NaN    NaN   Vedic Shampoo\n",
      "23         NaN       NaN  M04        NaN    NaN       W-Casuals\n",
      "24         NaN       NaN  M05        NaN    NaN        W-Inners\n",
      "25         NaN       NaN  M06        NaN    NaN        W-Lounge\n",
      "26         NaN       NaN  M07        NaN    NaN       W-Western\n",
      "27         NaN       NaN  M08        NaN    NaN          YM-98 \n",
      "28         NaN       NaN  M09        NaN    NaN           YM-99\n",
      "29         NaN       NaN  M10        NaN    NaN      YM-99 Plus\n"
     ]
    }
   ],
   "source": [
    "print(mode_val)"
   ]
  },
  {
   "cell_type": "code",
   "execution_count": 147,
   "id": "e239e740-e1bc-433a-9360-55f7b0d8e1db",
   "metadata": {},
   "outputs": [],
   "source": [
    "#here iloc[0] gets the most occured value only,ie first row from the result of counts\n",
    "mode_vals=df[['Date','Day','SKU','BU','Brand','Model']].mode().iloc[0]"
   ]
  },
  {
   "cell_type": "code",
   "execution_count": 148,
   "id": "a4e82680-de82-4c89-b4db-d28959b862f2",
   "metadata": {},
   "outputs": [
    {
     "name": "stdout",
     "output_type": "stream",
     "text": [
      "Date       01-04-2021\n",
      "Day          Thursday\n",
      "SKU               F01\n",
      "BU               FMCG\n",
      "Brand           Jeera\n",
      "Model    Babaji Cream\n",
      "Name: 0, dtype: object\n"
     ]
    }
   ],
   "source": [
    "print(mode_vals)"
   ]
  },
  {
   "cell_type": "code",
   "execution_count": 149,
   "id": "626747bf-b350-4e7f-943e-82e22d2978e1",
   "metadata": {},
   "outputs": [
    {
     "data": {
      "text/plain": [
       "\"\\nInterpretation:\\nMode: The most frequently occurring value(s) in each numerical column. There can be multiple modes.\\nInterpretation: The mode shows the most common value(s). It is useful for understanding the most frequent occurrences in the data, such as the most common sales figure or most common age.\\n\\n\\nDate: The mode for the Date column is 01-04-2021. This indicates that the date '01-04-2021' appears most frequently and had most sales.\\n\\nDay: The mode for the Day column is Thursday. This suggests that 'Thursday' is the most common day of the week for sales.\\n\\nSKU: The mode for the SKU column is F01. This indicates that 'F01' is the SKU (Stock Keeping Unit) thats most common.\\n\\nBU (Business Unit): The mode for the BU column is FMCG. This suggests that 'FMCG' (Fast Moving Consumer Goods) is the most common business unit category.\\n\\nBrand: The mode for the Brand column is Jeera. This indicates that 'Jeera' is the brand that is most sold .\\n\\nModel: The mode for the Model column is Babaji Cream. This suggests that 'Babaji Cream' is the most common model or variant being sold.\\n\""
      ]
     },
     "execution_count": 149,
     "metadata": {},
     "output_type": "execute_result"
    }
   ],
   "source": [
    "'''\n",
    "Interpretation:\n",
    "Mode: The most frequently occurring value(s) in each numerical column. There can be multiple modes.\n",
    "Interpretation: The mode shows the most common value(s). It is useful for understanding the most frequent occurrences in the data, such as the most common sales figure or most common age.\n",
    "\n",
    "\n",
    "Date: The mode for the Date column is 01-04-2021. This indicates that the date '01-04-2021' appears most frequently and had most sales.\n",
    "\n",
    "Day: The mode for the Day column is Thursday. This suggests that 'Thursday' is the most common day of the week for sales.\n",
    "\n",
    "SKU: The mode for the SKU column is F01. This indicates that 'F01' is the SKU (Stock Keeping Unit) thats most common.\n",
    "\n",
    "BU (Business Unit): The mode for the BU column is FMCG. This suggests that 'FMCG' (Fast Moving Consumer Goods) is the most common business unit category.\n",
    "\n",
    "Brand: The mode for the Brand column is Jeera. This indicates that 'Jeera' is the brand that is most sold .\n",
    "\n",
    "Model: The mode for the Model column is Babaji Cream. This suggests that 'Babaji Cream' is the most common model or variant being sold.\n",
    "'''"
   ]
  },
  {
   "cell_type": "code",
   "execution_count": 150,
   "id": "da9d1f3b-d875-416f-895c-41b48a4a4ec2",
   "metadata": {},
   "outputs": [],
   "source": [
    "med_val=df[['Volume','Avg Price','Total Sales Value','Discount Rate (%)','Discount Amount','Net Sales Value']].median()"
   ]
  },
  {
   "cell_type": "code",
   "execution_count": 151,
   "id": "028fe392-aae8-4af5-8cf6-97bdc5184181",
   "metadata": {},
   "outputs": [
    {
     "name": "stdout",
     "output_type": "stream",
     "text": [
      "Volume                  4.000000\n",
      "Avg Price            1450.000000\n",
      "Total Sales Value    5700.000000\n",
      "Discount Rate (%)      16.577766\n",
      "Discount Amount       988.933733\n",
      "Net Sales Value      4677.788059\n",
      "dtype: float64\n"
     ]
    }
   ],
   "source": [
    "print(med_val)"
   ]
  },
  {
   "cell_type": "code",
   "execution_count": 152,
   "id": "1a2563ad-289f-41ff-b84a-9036ae381ff2",
   "metadata": {},
   "outputs": [
    {
     "data": {
      "text/plain": [
       "\"\\nheres the interpretation:\\nMedian: The middle value of each numerical column when sorted in ascending order. It is another measure of central tendency, less affected by outliers compared to the mean.\\nThe median indicates the central value. For skewed distributions, the median can provide a better central value compared to the mean.\\n\\nVolume: The median volume is 4 units. This means that half of the observations in dataset have a volume of 4 or less, and half have a volume of 4 or more. \\nAvg Price: The median average price is 1450 currency units. This represents the middle value of prices in your dataset when arranged in ascending order. It's less sensitive to extreme high or low prices compared to the mean.\\n\\nTotal Sales Value: The median total sales value is 5700 currency units. This indicates the middle value of total sales amounts when sorted in ascending order. Half of the observations have a total sales value of 5700 or less, and half have a value of 5700 or more.\\n\\nDiscount Rate (%): The median discount rate is approximately 16.58%.  It's a robust measure of central tendency for discount rates.\\n\\nDiscount Amount: The median discount amount is 988.93 currency units.. It provides insight into typical discount amounts given in transactions.\\n\\nNet Sales Value: The median net sales value is 4677.79 currency units.  It's less influenced by extreme high or low values compared to the mean net sales value.\\n\\n\""
      ]
     },
     "execution_count": 152,
     "metadata": {},
     "output_type": "execute_result"
    }
   ],
   "source": [
    "'''\n",
    "heres the interpretation:\n",
    "Median: The middle value of each numerical column when sorted in ascending order. It is another measure of central tendency, less affected by outliers compared to the mean.\n",
    "The median indicates the central value. For skewed distributions, the median can provide a better central value compared to the mean.\n",
    "\n",
    "Volume: The median volume is 4 units. This means that half of the observations in dataset have a volume of 4 or less, and half have a volume of 4 or more. \n",
    "Avg Price: The median average price is 1450 currency units. This represents the middle value of prices in your dataset when arranged in ascending order. It's less sensitive to extreme high or low prices compared to the mean.\n",
    "\n",
    "Total Sales Value: The median total sales value is 5700 currency units. This indicates the middle value of total sales amounts when sorted in ascending order. Half of the observations have a total sales value of 5700 or less, and half have a value of 5700 or more.\n",
    "\n",
    "Discount Rate (%): The median discount rate is approximately 16.58%.  It's a robust measure of central tendency for discount rates.\n",
    "\n",
    "Discount Amount: The median discount amount is 988.93 currency units.. It provides insight into typical discount amounts given in transactions.\n",
    "\n",
    "Net Sales Value: The median net sales value is 4677.79 currency units.  It's less influenced by extreme high or low values compared to the mean net sales value.\n",
    "\n",
    "'''"
   ]
  },
  {
   "cell_type": "code",
   "execution_count": 153,
   "id": "b129b1ce-f6cc-442f-bf65-127ebbf2bb08",
   "metadata": {},
   "outputs": [],
   "source": [
    "std_val=df[['Volume','Avg Price','Total Sales Value','Discount Rate (%)','Discount Amount','Net Sales Value']].std()"
   ]
  },
  {
   "cell_type": "code",
   "execution_count": 154,
   "id": "9c2c27e3-2ad4-4a86-a603-54e013321560",
   "metadata": {},
   "outputs": [
    {
     "name": "stdout",
     "output_type": "stream",
     "text": [
      "Volume                   4.231602\n",
      "Avg Price            18079.904840\n",
      "Total Sales Value    50535.074173\n",
      "Discount Rate (%)        4.220602\n",
      "Discount Amount       4509.902963\n",
      "Net Sales Value      46358.656624\n",
      "dtype: float64\n"
     ]
    }
   ],
   "source": [
    "print(std_val)"
   ]
  },
  {
   "cell_type": "code",
   "execution_count": 155,
   "id": "58fccbf0-097c-4b6e-a740-d892be58ea93",
   "metadata": {},
   "outputs": [
    {
     "data": {
      "text/plain": [
       "'\\nInterpretaion\\nhe standard deviation measures the amount of variation or dispersion from the mean. A higher standard deviation indicates that the \\ndata points are spread out over a wider range from the mean, while a lower standard deviation suggests that the data points are closer to the mean\\n\\nVolume: The standard deviation for Volume is approximately 4.23 units. This suggests that the quantity sold can vary around the mean (average) of 4.23 units. A higher standard deviation in volume might indicate fluctuating demand or varying order sizes, which could impact inventory management and production planning.\\n\\nAvg Price: The std deviation for Avg Price is about 18,079.90 currency units. This indicates significant variability in the prices of products or services sold. Such variability could stem from different pricing strategies, market demand fluctuations, or varying product configurations (like different models or sizes).\\n\\nTotal Sales Value: The std deviation for Total Sales Value is approximately 50,535.07 currency units. This metric reflects the variability in the total monetary value generated from sales transactions. A higher std deviation here suggests that sales revenues can vary widely, influenced by factors such as customer purchases, pricing changes, or seasonal trends.\\n\\nDiscount Rate (%): The std deviation for Discount Rate (%) is around 4.22%. This indicates the variability in discount rates applied to sales transactions. A higher std deviation in discount rates might reflect diverse promotional strategies or varying customer segments receiving different discount levels.\\n\\nDiscount Amount: The std deviation for Discount Amount is approximately 4,509.90 currency units. This represents the variability in the actual monetary discounts applied to total sales. A higher std deviation in discount amounts indicates fluctuating promotional activities or varying customer responses to discounts.\\n\\nNet Sales Value: The std deviation for Net Sales Value is about 46,358.66 currency units. This measures the variability in the net revenue after accounting for discounts. A higher std deviation in net sales value implies fluctuating profitability, influenced by sales fluctuations and varying discount impacts.\\n'"
      ]
     },
     "execution_count": 155,
     "metadata": {},
     "output_type": "execute_result"
    }
   ],
   "source": [
    "'''\n",
    "Interpretaion\n",
    "he standard deviation measures the amount of variation or dispersion from the mean. A higher standard deviation indicates that the \n",
    "data points are spread out over a wider range from the mean, while a lower standard deviation suggests that the data points are closer to the mean\n",
    "\n",
    "Volume: The standard deviation for Volume is approximately 4.23 units. This suggests that the quantity sold can vary around the mean (average) of 4.23 units. A higher standard deviation in volume might indicate fluctuating demand or varying order sizes, which could impact inventory management and production planning.\n",
    "\n",
    "Avg Price: The std deviation for Avg Price is about 18,079.90 currency units. This indicates significant variability in the prices of products or services sold. Such variability could stem from different pricing strategies, market demand fluctuations, or varying product configurations (like different models or sizes).\n",
    "\n",
    "Total Sales Value: The std deviation for Total Sales Value is approximately 50,535.07 currency units. This metric reflects the variability in the total monetary value generated from sales transactions. A higher std deviation here suggests that sales revenues can vary widely, influenced by factors such as customer purchases, pricing changes, or seasonal trends.\n",
    "\n",
    "Discount Rate (%): The std deviation for Discount Rate (%) is around 4.22%. This indicates the variability in discount rates applied to sales transactions. A higher std deviation in discount rates might reflect diverse promotional strategies or varying customer segments receiving different discount levels.\n",
    "\n",
    "Discount Amount: The std deviation for Discount Amount is approximately 4,509.90 currency units. This represents the variability in the actual monetary discounts applied to total sales. A higher std deviation in discount amounts indicates fluctuating promotional activities or varying customer responses to discounts.\n",
    "\n",
    "Net Sales Value: The std deviation for Net Sales Value is about 46,358.66 currency units. This measures the variability in the net revenue after accounting for discounts. A higher std deviation in net sales value implies fluctuating profitability, influenced by sales fluctuations and varying discount impacts.\n",
    "'''"
   ]
  },
  {
   "cell_type": "code",
   "execution_count": 156,
   "id": "086c78be-cdd1-4577-9c8a-0e7d5e57c910",
   "metadata": {},
   "outputs": [],
   "source": [
    "# Data Visualization"
   ]
  },
  {
   "cell_type": "code",
   "execution_count": 157,
   "id": "bebedad2-6b3f-44bb-88f9-d0f4dea11f52",
   "metadata": {},
   "outputs": [],
   "source": [
    "\n",
    "import matplotlib.pyplot as plt\n",
    "import seaborn as sn"
   ]
  },
  {
   "cell_type": "code",
   "execution_count": 158,
   "id": "4d916b00-4444-48ca-8d2f-b07dfbdd5930",
   "metadata": {},
   "outputs": [
    {
     "data": {
      "text/plain": [
       "Text(0, 0.5, 'Frequency')"
      ]
     },
     "execution_count": 158,
     "metadata": {},
     "output_type": "execute_result"
    },
    {
     "data": {
      "image/png": "[encoded data removed]",
      "text/plain": [
       "<Figure size 640x480 with 1 Axes>"
      ]
     },
     "metadata": {},
     "output_type": "display_data"
    }
   ],
   "source": [
    "plt.hist(df['Volume'],facecolor='Orange',edgecolor='black')\n",
    "plt.xlabel('Volume')\n",
    "plt.ylabel('Frequency')"
   ]
  },
  {
   "cell_type": "code",
   "execution_count": 159,
   "id": "1246fafa-e350-4bc5-99a7-ce76fd473c30",
   "metadata": {},
   "outputs": [
    {
     "data": {
      "text/plain": [
       "'\\nThe above histogram is mostly on left side,its is positively skewed\\nPositively Skewed: The data has a long tail on the right side. Most of the data points are concentrated on the left side (lower values), and fewer data points are spread out towards the right (higher values).\\nThis indicates that a majority of the volumes are relatively low, but there are a few instances where the volume is significantly higher.\\n\\nThe majority of volume values lie between 0 and 10, suggesting that this is the typical range for most of the data points.\\n\\nquantity/volume above 20 are the outliers\\nOutliers can indicate special conditions or anomalies in the data. \\nFor instance, these could be days with unusually high/low activity or errors in data recording.\\n'"
      ]
     },
     "execution_count": 159,
     "metadata": {},
     "output_type": "execute_result"
    }
   ],
   "source": [
    "'''\n",
    "The above histogram is mostly on left side,its is positively skewed\n",
    "Positively Skewed: The data has a long tail on the right side. Most of the data points are concentrated on the left side (lower values), and fewer data points are spread out towards the right (higher values).\n",
    "This indicates that a majority of the volumes are relatively low, but there are a few instances where the volume is significantly higher.\n",
    "\n",
    "The majority of volume values lie between 0 and 10, suggesting that this is the typical range for most of the data points.\n",
    "\n",
    "quantity/volume above 20 are the outliers\n",
    "Outliers can indicate special conditions or anomalies in the data. \n",
    "For instance, these could be days with unusually high/low activity or errors in data recording.\n",
    "'''"
   ]
  },
  {
   "cell_type": "code",
   "execution_count": 160,
   "id": "f6580d85-6feb-411c-85d1-d2d8dedcbf66",
   "metadata": {},
   "outputs": [
    {
     "data": {
      "text/plain": [
       "Text(0, 0.5, 'Frequency')"
      ]
     },
     "execution_count": 160,
     "metadata": {},
     "output_type": "execute_result"
    },
    {
     "data": {
      "image/png": "[encoded data removed]",
      "text/plain": [
       "<Figure size 640x480 with 1 Axes>"
      ]
     },
     "metadata": {},
     "output_type": "display_data"
    }
   ],
   "source": [
    "plt.hist(df['Avg Price'],facecolor='Orange',edgecolor='black')\n",
    "plt.xlabel('Average Price')\n",
    "plt.ylabel('Frequency')"
   ]
  },
  {
   "cell_type": "code",
   "execution_count": 161,
   "id": "f9e7fbc7-9ed3-48f8-ad2e-16963dd0c028",
   "metadata": {},
   "outputs": [
    {
     "data": {
      "text/plain": [
       "'\\nThe histogram shows a high frequency of lower average price values, with the highest bar representing prices close to 0. \\nThis indicates that most data points have low average prices.\\nThe frequency decreases significantly as the average price increases, showing a typical positively skewed distribution.\\nThere are a few data points with significantly higher average prices (around 50,000 to 60,000), which are considered outliers. \\nThe overall interpretation suggests a market where lower average prices are the norm, and high average prices are exceptional\\n'"
      ]
     },
     "execution_count": 161,
     "metadata": {},
     "output_type": "execute_result"
    }
   ],
   "source": [
    "'''\n",
    "The histogram shows a high frequency of lower average price values, with the highest bar representing prices close to 0. \n",
    "This indicates that most data points have low average prices.\n",
    "The frequency decreases significantly as the average price increases, showing a typical positively skewed distribution.\n",
    "There are a few data points with significantly higher average prices (around 50,000 to 60,000), which are considered outliers. \n",
    "The overall interpretation suggests a market where lower average prices are the norm, and high average prices are exceptional\n",
    "'''"
   ]
  },
  {
   "cell_type": "code",
   "execution_count": 162,
   "id": "c2e0fe9a-38b6-4c36-9d82-59444f750f86",
   "metadata": {},
   "outputs": [
    {
     "data": {
      "text/plain": [
       "Text(0, 0.5, 'Frequency')"
      ]
     },
     "execution_count": 162,
     "metadata": {},
     "output_type": "execute_result"
    },
    {
     "data": {
      "image/png": "[encoded data removed]",
      "text/plain": [
       "<Figure size 640x480 with 1 Axes>"
      ]
     },
     "metadata": {},
     "output_type": "display_data"
    }
   ],
   "source": [
    "plt.hist(df['Total Sales Value'],facecolor='Orange',edgecolor='black')\n",
    "plt.xlabel('Total Sales Value')\n",
    "plt.ylabel('Frequency')"
   ]
  },
  {
   "cell_type": "code",
   "execution_count": 163,
   "id": "50d6165b-0d8b-4700-b9e4-0fb1c71e4a97",
   "metadata": {},
   "outputs": [
    {
     "data": {
      "text/plain": [
       "'\\nThe histogram shows a very high frequency of lower total sales values, with the highest bar representing sales values close to 0. \\nThis indicates that most data points have low total sales values.\\nThe frequency decreases significantly as the total sales value increases, showing a typical positively skewed distribution.\\n'"
      ]
     },
     "execution_count": 163,
     "metadata": {},
     "output_type": "execute_result"
    }
   ],
   "source": [
    "'''\n",
    "The histogram shows a very high frequency of lower total sales values, with the highest bar representing sales values close to 0. \n",
    "This indicates that most data points have low total sales values.\n",
    "The frequency decreases significantly as the total sales value increases, showing a typical positively skewed distribution.\n",
    "'''\n"
   ]
  },
  {
   "cell_type": "code",
   "execution_count": 164,
   "id": "52827ed2-ffa4-4d33-90a9-4a9460d43120",
   "metadata": {},
   "outputs": [
    {
     "data": {
      "text/plain": [
       "Text(0, 0.5, 'Frequency')"
      ]
     },
     "execution_count": 164,
     "metadata": {},
     "output_type": "execute_result"
    },
    {
     "data": {
      "image/png": "[encoded data removed]",
      "text/plain": [
       "<Figure size 640x480 with 1 Axes>"
      ]
     },
     "metadata": {},
     "output_type": "display_data"
    }
   ],
   "source": [
    "plt.hist(df['Discount Rate (%)'],facecolor='Orange',edgecolor='black')\n",
    "plt.xlabel('Discount Rate (%)')\n",
    "plt.ylabel('Frequency')"
   ]
  },
  {
   "cell_type": "code",
   "execution_count": 165,
   "id": "34411d9b-e07c-46ef-ac43-fcab2faa1de0",
   "metadata": {},
   "outputs": [
    {
     "data": {
      "text/plain": [
       "'\\nThe histogram shows a very high frequency of higher discount rate, with the highest bar representing discount rate 18%. \\nThis indicates thatdata points have high and low discount rates equally.\\nThe frequency increases significantly as the discount rate increases, showing a typical negetively skewed distribution.\\n'"
      ]
     },
     "execution_count": 165,
     "metadata": {},
     "output_type": "execute_result"
    }
   ],
   "source": [
    "'''\n",
    "The histogram shows a very high frequency of higher discount rate, with the highest bar representing discount rate 18%. \n",
    "This indicates thatdata points have high and low discount rates equally.\n",
    "The frequency increases significantly as the discount rate increases, showing a typical negetively skewed distribution.\n",
    "'''"
   ]
  },
  {
   "cell_type": "code",
   "execution_count": 166,
   "id": "214b2fe7-c9a0-46cc-96b7-921c9bd3fb76",
   "metadata": {},
   "outputs": [
    {
     "data": {
      "text/plain": [
       "Text(0, 0.5, 'Frequency')"
      ]
     },
     "execution_count": 166,
     "metadata": {},
     "output_type": "execute_result"
    },
    {
     "data": {
      "image/png": "[encoded data removed]",
      "text/plain": [
       "<Figure size 640x480 with 1 Axes>"
      ]
     },
     "metadata": {},
     "output_type": "display_data"
    }
   ],
   "source": [
    "plt.hist(df['Discount Amount'],facecolor='Orange',edgecolor='black')\n",
    "plt.xlabel('Discount Amount ')\n",
    "plt.ylabel('Frequency')"
   ]
  },
  {
   "cell_type": "code",
   "execution_count": 167,
   "id": "963dda92-17be-45d5-a62a-70c54caba5ac",
   "metadata": {},
   "outputs": [
    {
     "data": {
      "text/plain": [
       "'\\nThe histogram shows a very high frequency of higher discount rate, with the highest bar representing discount amount between 0 to 2000(probabily) . \\nThis indicates that data points have  low discount amounts.\\nThe frequency decreases significantly as the discount amount increases, showing a typical positively skewed distribution.\\n'"
      ]
     },
     "execution_count": 167,
     "metadata": {},
     "output_type": "execute_result"
    }
   ],
   "source": [
    "'''\n",
    "The histogram shows a very high frequency of higher discount rate, with the highest bar representing discount amount between 0 to 2000(probabily) . \n",
    "This indicates that data points have  low discount amounts.\n",
    "The frequency decreases significantly as the discount amount increases, showing a typical positively skewed distribution.\n",
    "'''"
   ]
  },
  {
   "cell_type": "code",
   "execution_count": 168,
   "id": "7e117559-512f-493c-a05c-d62e1f2488bb",
   "metadata": {},
   "outputs": [
    {
     "data": {
      "text/plain": [
       "Text(0, 0.5, 'Frequency')"
      ]
     },
     "execution_count": 168,
     "metadata": {},
     "output_type": "execute_result"
    },
    {
     "data": {
      "image/png": "[encoded data removed]",
      "text/plain": [
       "<Figure size 640x480 with 1 Axes>"
      ]
     },
     "metadata": {},
     "output_type": "display_data"
    }
   ],
   "source": [
    "plt.hist(df['Net Sales Value'],facecolor='Orange',edgecolor='black')\n",
    "plt.xlabel('Net Sales Value')\n",
    "plt.ylabel('Frequency')"
   ]
  },
  {
   "cell_type": "code",
   "execution_count": 169,
   "id": "9064d051-aeb5-4457-b0f1-2fe1d2195091",
   "metadata": {},
   "outputs": [
    {
     "data": {
      "text/plain": [
       "'\\nThe histogram shows a very low frequency of higher net sales value, with the highest bar representing net sales value close to 0 to 20000(approx). \\nThis indicates that data points have  low  net sales value mostly .\\nThe frequency decreases significantly as the Net sales value increases, showing a typical positively skewed distribution.\\n'"
      ]
     },
     "execution_count": 169,
     "metadata": {},
     "output_type": "execute_result"
    }
   ],
   "source": [
    "'''\n",
    "The histogram shows a very low frequency of higher net sales value, with the highest bar representing net sales value close to 0 to 20000(approx). \n",
    "This indicates that data points have  low  net sales value mostly .\n",
    "The frequency decreases significantly as the Net sales value increases, showing a typical positively skewed distribution.\n",
    "'''"
   ]
  },
  {
   "cell_type": "code",
   "execution_count": null,
   "id": "a3b2b6ee-6582-4f79-91a4-0a1b3c92ea73",
   "metadata": {},
   "outputs": [],
   "source": []
  }
 ],
 "metadata": {
  "kernelspec": {
   "display_name": "Python 3 (ipykernel)",
   "language": "python",
   "name": "python3"
  },
  "language_info": {
   "codemirror_mode": {
    "name": "ipython",
    "version": 3
   },
   "file_extension": ".py",
   "mimetype": "text/x-python",
   "name": "python",
   "nbconvert_exporter": "python",
   "pygments_lexer": "ipython3",
   "version": "3.11.7"
  }
 },
 "nbformat": 4,
 "nbformat_minor": 5
}
