{
 "cells": [
  {
   "cell_type": "code",
   "execution_count": 4,
   "id": "a2f713c5-8a83-40ce-b80b-81f693d7d1ea",
   "metadata": {},
   "outputs": [],
   "source": [
    "#Assignment 1 -  Basics of python\n"
   ]
  },
  {
   "cell_type": "code",
   "execution_count": 5,
   "id": "2bd43759-b135-4884-ae0d-17b78bde670b",
   "metadata": {},
   "outputs": [],
   "source": [
    "# Q1->Write a Python program that checks whether a given number is prime or not. \n",
    "#A prime number is a natural number greater than 1 that has no positive divisors other than 1 and itself."
   ]
  },
  {
   "cell_type": "code",
   "execution_count": 6,
   "id": "f5e53310-f13e-4e78-8253-23f250e373e1",
   "metadata": {},
   "outputs": [
    {
     "name": "stdin",
     "output_type": "stream",
     "text": [
      "Enter a number:  62\n"
     ]
    },
    {
     "name": "stdout",
     "output_type": "stream",
     "text": [
      "62 is not a prime number.\n"
     ]
    }
   ],
   "source": [
    "#prime numbers are the numbers which are divisible by 1 and itself\n",
    "\n",
    "\n",
    "def is_prime(number):                          #number = input from user\n",
    "    \n",
    "    if number <= 1:\n",
    "        return False                           #numbers less than or equal to 1  are not prime\n",
    "        \n",
    "    if number == 2:\n",
    "        return True                            #As 2 is a prime number\n",
    "        \n",
    "    if number % 2 == 0:                        #(checks if  the number is even numbers)\n",
    "        return False                           #Any even number greater than 2 can be divided by 2\n",
    "                                               #which means it has at least one divisor other than 1 and itself. Therefore, it cannot be prime.\n",
    "        \n",
    "    \n",
    " #Here i iterates from 3 to the square root of the number(*0.5) plus one and the  step size is 2 so it can check only odd numbers.\n",
    "    \n",
    "    for i in range(3, int(number**0.5) + 1, 2):  \n",
    "        if number % i == 0:\n",
    "            return False\n",
    "\n",
    "        \n",
    "    return True\n",
    "\n",
    "# Input from the user\n",
    "num = int(input(\"Enter a number: \"))\n",
    "\n",
    "\n",
    "# Check if the number is prime or not\n",
    "if is_prime(num):\n",
    "    \n",
    "    print(f\"{num} is a prime number.\")     #True=prime  False=Not prime\n",
    "else:\n",
    "    print(f\"{num} is not a prime number.\")"
   ]
  },
  {
   "cell_type": "code",
   "execution_count": 7,
   "id": "e6189c59-c417-4494-97b9-de7c9983b35d",
   "metadata": {},
   "outputs": [
    {
     "name": "stdin",
     "output_type": "stream",
     "text": [
      "Enter a number:  7\n"
     ]
    },
    {
     "name": "stdout",
     "output_type": "stream",
     "text": [
      "7 is a prime number.\n"
     ]
    }
   ],
   "source": [
    "#prime numbers are the numbers which are divisible by 1 and itself\n",
    "\n",
    "\n",
    "def is_prime(number):                          #number = input from user\n",
    "    \n",
    "    if number <= 1:\n",
    "        return False                           #numbers less than or equal to 1  are not prime\n",
    "        \n",
    "    if number == 2:\n",
    "        return True                            #As 2 is a prime number\n",
    "        \n",
    "    if number % 2 == 0:                        #(checks if  the number is even or odd)\n",
    "        return False                           #Any even number greater than 2 can be divided by 2\n",
    "                                               #which means it has at least one divisor other than 1 and itself. Therefore, it cannot be prime.\n",
    "        \n",
    "    \n",
    " \n",
    "    for i in range(3, int(number**0.5) + 1, 2): \n",
    "        if number % i == 0:\n",
    "            return False\n",
    "\n",
    "        \n",
    "    return True\n",
    "\n",
    "# Input from the user\n",
    "num = int(input(\"Enter a number: \"))\n",
    "\n",
    "\n",
    "# Check if the number is prime or not\n",
    "if is_prime(num):\n",
    "    \n",
    "    print(f\"{num} is a prime number.\")     #True=prime  False=Not prime\n",
    "else:\n",
    "    print(f\"{num} is not a prime number.\")"
   ]
  },
  {
   "cell_type": "code",
   "execution_count": 8,
   "id": "4898fac9-48d2-4de2-b9b9-cdee76d7b441",
   "metadata": {},
   "outputs": [
    {
     "name": "stdout",
     "output_type": "stream",
     "text": [
      "Calculate the product of 9 and 3: \n"
     ]
    },
    {
     "name": "stdin",
     "output_type": "stream",
     "text": [
      "Your answer:  27\n"
     ]
    },
    {
     "name": "stdout",
     "output_type": "stream",
     "text": [
      "Correct! Well done!\n"
     ]
    }
   ],
   "source": [
    "#Q2->Develop a Python program that generates two random numbers and asks the user to enter the product of these numbers. \n",
    "#The program should then check if the user's answer is correct and display an appropriate message.import random\n",
    "\n",
    "import random                  #imports random module\n",
    "\n",
    "def generate_random_numbers():\n",
    "    num1 = random.randint(1, 10)               #generates 2 random numbers\n",
    "    num2 = random.randint(1, 10)\n",
    "    return num1, num2\n",
    "\n",
    "def main():\n",
    "    num1, num2 = generate_random_numbers()      #calls generate_random_numbers function and assigns the return values to num1 and num2.\n",
    "    correct_answer = num1 * num2\n",
    "    \n",
    "    print(f\"Calculate the product of {num1} and {num2}: \")\n",
    "    user_answer = int(input(\"Your answer: \"))\n",
    "    \n",
    "    if user_answer == correct_answer:\n",
    "        print(\"Correct! Well done!\")\n",
    "    else:\n",
    "        print(f\"Incorrect. The correct answer is {correct_answer}.\")\n",
    "        \n",
    "if __name__ == \"__main__\":\n",
    "    main()\n"
   ]
  },
  {
   "cell_type": "code",
   "execution_count": 9,
   "id": "b31d6a09-f76a-4ea5-a2d5-e78116c4d2c1",
   "metadata": {},
   "outputs": [
    {
     "name": "stdout",
     "output_type": "stream",
     "text": [
      "Calculate the product of 7 and 7: \n"
     ]
    },
    {
     "name": "stdin",
     "output_type": "stream",
     "text": [
      "Your answer:  44\n"
     ]
    },
    {
     "name": "stdout",
     "output_type": "stream",
     "text": [
      "Incorrect. The correct answer is 49.\n"
     ]
    }
   ],
   "source": [
    "#Q2->Develop a Python program that generates two random numbers and asks the user to enter the product of these numbers. \n",
    "#The program should then check if the user's answer is correct and display an appropriate message.import random\n",
    "\n",
    "import random\n",
    "\n",
    "def generate_random_numbers():\n",
    "    num1 = random.randint(1, 10)\n",
    "    num2 = random.randint(1, 10)\n",
    "    return num1, num2\n",
    "\n",
    "def main():\n",
    "    num1, num2 = generate_random_numbers()\n",
    "    correct_answer = num1 * num2\n",
    "    \n",
    "    print(f\"Calculate the product of {num1} and {num2}: \")\n",
    "    user_answer = int(input(\"Your answer: \"))\n",
    "    \n",
    "    if user_answer == correct_answer:\n",
    "        print(\"Correct! Well done!\")\n",
    "    else:\n",
    "        print(f\"Incorrect. The correct answer is {correct_answer}.\")\n",
    "        \n",
    "if __name__ == \"__main__\":\n",
    "    main()\n"
   ]
  },
  {
   "cell_type": "code",
   "execution_count": 10,
   "id": "be1d21de-1a76-4113-a3f8-4810b249e8bd",
   "metadata": {},
   "outputs": [
    {
     "name": "stdin",
     "output_type": "stream",
     "text": [
      "Do you want to print squares of even or odd numbers? (Enter 'even' or 'odd'):  even\n"
     ]
    },
    {
     "name": "stdout",
     "output_type": "stream",
     "text": [
      "The square of 100 is 10000\n",
      "The square of 102 is 10404\n",
      "The square of 104 is 10816\n",
      "The square of 106 is 11236\n",
      "The square of 108 is 11664\n",
      "The square of 110 is 12100\n",
      "The square of 112 is 12544\n",
      "The square of 114 is 12996\n",
      "The square of 116 is 13456\n",
      "The square of 118 is 13924\n",
      "The square of 120 is 14400\n",
      "The square of 122 is 14884\n",
      "The square of 124 is 15376\n",
      "The square of 126 is 15876\n",
      "The square of 128 is 16384\n",
      "The square of 130 is 16900\n",
      "The square of 132 is 17424\n",
      "The square of 134 is 17956\n",
      "The square of 136 is 18496\n",
      "The square of 138 is 19044\n",
      "The square of 140 is 19600\n",
      "The square of 142 is 20164\n",
      "The square of 144 is 20736\n",
      "The square of 146 is 21316\n",
      "The square of 148 is 21904\n",
      "The square of 150 is 22500\n",
      "The square of 152 is 23104\n",
      "The square of 154 is 23716\n",
      "The square of 156 is 24336\n",
      "The square of 158 is 24964\n",
      "The square of 160 is 25600\n",
      "The square of 162 is 26244\n",
      "The square of 164 is 26896\n",
      "The square of 166 is 27556\n",
      "The square of 168 is 28224\n",
      "The square of 170 is 28900\n",
      "The square of 172 is 29584\n",
      "The square of 174 is 30276\n",
      "The square of 176 is 30976\n",
      "The square of 178 is 31684\n",
      "The square of 180 is 32400\n",
      "The square of 182 is 33124\n",
      "The square of 184 is 33856\n",
      "The square of 186 is 34596\n",
      "The square of 188 is 35344\n",
      "The square of 190 is 36100\n",
      "The square of 192 is 36864\n",
      "The square of 194 is 37636\n",
      "The square of 196 is 38416\n",
      "The square of 198 is 39204\n",
      "The square of 200 is 40000\n"
     ]
    }
   ],
   "source": [
    "#Q3->Create a Python script that prints the squares of all even or odd numbers within the range of 100 to 200.\n",
    "# Choose either even or odd numbers and document your choice in the code.\n",
    "# This script prints the squares of either all even or odd numbers within the range of 100 to 200, based on user input.\n",
    "\n",
    "def squares_of_even_numbers(start, end):\n",
    "    for number in range(start, end + 1):\n",
    "        if number % 2 == 0:             # Check if the number is even\n",
    "            print(f\"The square of {number} is {number ** 2}\")\n",
    "\n",
    "def squares_of_odd_numbers(start, end):\n",
    "    for number in range(start, end + 1):\n",
    "        if number % 2 != 0:             # Check if the number is odd\n",
    "            print(f\"The square of {number} is {number ** 2}\")\n",
    "\n",
    "# Define the range\n",
    "start = 100\n",
    "end = 200\n",
    "\n",
    "# Get user input to choose between even or odd\n",
    "#strips any extra whitespace, and converts it to lowercase.\n",
    "\n",
    "choice = input(\"Do you want to print squares of even or odd numbers? (Enter 'even' or 'odd'): \").strip().lower()\n",
    "\n",
    "if choice == 'even':\n",
    "    squares_of_even_numbers(start, end)\n",
    "elif choice == 'odd':\n",
    "    squares_of_odd_numbers(start, end)\n",
    "else:\n",
    "    print(\"Invalid choice. Please enter 'even' or 'odd'.\")\n"
   ]
  },
  {
   "cell_type": "code",
   "execution_count": 11,
   "id": "d5a0790e-f225-469a-8772-59ebb2e9ea65",
   "metadata": {},
   "outputs": [
    {
     "name": "stdin",
     "output_type": "stream",
     "text": [
      "Do you want to print squares of even or odd numbers? (Enter 'even' or 'odd'):  odd\n"
     ]
    },
    {
     "name": "stdout",
     "output_type": "stream",
     "text": [
      "The square of 101 is 10201\n",
      "The square of 103 is 10609\n",
      "The square of 105 is 11025\n",
      "The square of 107 is 11449\n",
      "The square of 109 is 11881\n",
      "The square of 111 is 12321\n",
      "The square of 113 is 12769\n",
      "The square of 115 is 13225\n",
      "The square of 117 is 13689\n",
      "The square of 119 is 14161\n",
      "The square of 121 is 14641\n",
      "The square of 123 is 15129\n",
      "The square of 125 is 15625\n",
      "The square of 127 is 16129\n",
      "The square of 129 is 16641\n",
      "The square of 131 is 17161\n",
      "The square of 133 is 17689\n",
      "The square of 135 is 18225\n",
      "The square of 137 is 18769\n",
      "The square of 139 is 19321\n",
      "The square of 141 is 19881\n",
      "The square of 143 is 20449\n",
      "The square of 145 is 21025\n",
      "The square of 147 is 21609\n",
      "The square of 149 is 22201\n",
      "The square of 151 is 22801\n",
      "The square of 153 is 23409\n",
      "The square of 155 is 24025\n",
      "The square of 157 is 24649\n",
      "The square of 159 is 25281\n",
      "The square of 161 is 25921\n",
      "The square of 163 is 26569\n",
      "The square of 165 is 27225\n",
      "The square of 167 is 27889\n",
      "The square of 169 is 28561\n",
      "The square of 171 is 29241\n",
      "The square of 173 is 29929\n",
      "The square of 175 is 30625\n",
      "The square of 177 is 31329\n",
      "The square of 179 is 32041\n",
      "The square of 181 is 32761\n",
      "The square of 183 is 33489\n",
      "The square of 185 is 34225\n",
      "The square of 187 is 34969\n",
      "The square of 189 is 35721\n",
      "The square of 191 is 36481\n",
      "The square of 193 is 37249\n",
      "The square of 195 is 38025\n",
      "The square of 197 is 38809\n",
      "The square of 199 is 39601\n"
     ]
    }
   ],
   "source": [
    "#Q3->Create a Python script that prints the squares of all even or odd numbers within the range of 100 to 200.\n",
    "# Choose either even or odd numbers and document your choice in the code.\n",
    "# This script prints the squares of either all even or odd numbers within the range of 100 to 200, based on user input.\n",
    "\n",
    "def squares_of_even_numbers(start, end):\n",
    "    for number in range(start, end + 1):\n",
    "        if number % 2 == 0:             # Check if the number is even\n",
    "            print(f\"The square of {number} is {number ** 2}\")\n",
    "\n",
    "def squares_of_odd_numbers(start, end):\n",
    "    for number in range(start, end + 1):\n",
    "        if number % 2 != 0:             # Check if the number is odd\n",
    "            print(f\"The square of {number} is {number ** 2}\")\n",
    "\n",
    "# Define the range\n",
    "start = 100\n",
    "end = 200\n",
    "\n",
    "# Get user input to choose between even or odd\n",
    "#strips any extra whitespace, and converts it to lowercase.\n",
    "\n",
    "choice = input(\"Do you want to print squares of even or odd numbers? (Enter 'even' or 'odd'): \").strip().lower()\n",
    "\n",
    "if choice == 'even':\n",
    "    squares_of_even_numbers(start, end)\n",
    "elif choice == 'odd':\n",
    "    squares_of_odd_numbers(start, end)\n",
    "else:\n",
    "    print(\"Invalid choice. Please enter 'even' or 'odd'.\")\n"
   ]
  },
  {
   "cell_type": "code",
   "execution_count": 13,
   "id": "e1f0d38d-45b7-4611-896a-6c209f22a162",
   "metadata": {},
   "outputs": [
    {
     "data": {
      "text/plain": [
       "'Q4->write a program to count the number of words in a given text.\\nexample:\\ninput_text = \"This is a sample text. This text will be used to demonstrate the word counter.\"\\nExpected output:\\n\\'This\\': 2 \\n\\'is\\': 1\\n\\'a\\': 1\\n\\'sample\\': 1\\n\\'text.\\': 1'"
      ]
     },
     "execution_count": 13,
     "metadata": {},
     "output_type": "execute_result"
    }
   ],
   "source": [
    "\"\"\"Q4->write a program to count the number of words in a given text.\n",
    "example:\n",
    "input_text = \"This is a sample text. This text will be used to demonstrate the word counter.\"\n",
    "Expected output:\n",
    "'This': 2 \n",
    "'is': 1\n",
    "'a': 1\n",
    "'sample': 1\n",
    "'text.': 1\"\"\"\n"
   ]
  },
  {
   "cell_type": "code",
   "execution_count": 14,
   "id": "556f0644-00a8-4e7e-af13-59da43c77ea3",
   "metadata": {},
   "outputs": [
    {
     "name": "stdout",
     "output_type": "stream",
     "text": [
      "'hello': 1\n",
      "'this': 1\n",
      "'is': 2\n",
      "'python': 2\n",
      "'and': 1\n",
      "'very': 1\n",
      "'efficient': 1\n"
     ]
    }
   ],
   "source": [
    "from collections import Counter\n",
    "import re    #regular expression module\n",
    "\n",
    "def count_words(input_text):\n",
    "    # Use regex to find words, considering words as sequences of alphanumeric characters\n",
    "    \n",
    "    words = re.findall(r'\\b\\w+\\b', input_text.lower())  # convert text to lowercase for case-insensitive counting\n",
    "    \n",
    "    word_count = Counter(words)  # count the words using Counter from collections module\n",
    "\n",
    "    # Print the word counts]=/\n",
    "    for word, count in word_count.items():  # Here word is a particular word and count is total count of that word\n",
    "        \n",
    "        print(f\"'{word}': {count}\")\n",
    "\n",
    "# Example input text\n",
    "input_text = \"Hello .this is python and python is very efficient\"\n",
    "count_words(input_text)\n"
   ]
  },
  {
   "cell_type": "code",
   "execution_count": 15,
   "id": "bdeced6a-f07c-4f3c-9bdc-fc8a1a3d428f",
   "metadata": {},
   "outputs": [
    {
     "data": {
      "text/plain": [
       "'Q5->Write a Python function called is_palindrome that takes a string as input and returns True if the string is a palindrome, and False otherwise. A palindrome is a word, phrase, number, or other sequence of characters that reads the same forward and backward, ignoring spaces, punctuation, and capitalization.\\nExample:\\nInput: \"racecar\"\\nExpected Output: True'"
      ]
     },
     "execution_count": 15,
     "metadata": {},
     "output_type": "execute_result"
    }
   ],
   "source": [
    "\n",
    "\"\"\"Q5->Write a Python function called is_palindrome that takes a string as input and returns True if the string is a palindrome, and False otherwise. A palindrome is a word, phrase, number, or other sequence of characters that reads the same forward and backward, ignoring spaces, punctuation, and capitalization.\n",
    "Example:\n",
    "Input: \"racecar\"\n",
    "Expected Output: True\"\"\"\n"
   ]
  },
  {
   "cell_type": "code",
   "execution_count": 18,
   "id": "c61f8b6d-0d10-470a-945b-d5e6ade84cde",
   "metadata": {},
   "outputs": [
    {
     "name": "stdin",
     "output_type": "stream",
     "text": [
      "Enter a string:  school\n"
     ]
    },
    {
     "name": "stdout",
     "output_type": "stream",
     "text": [
      "\"school\" is not a palindrome.\n"
     ]
    }
   ],
   "source": [
    "import re\n",
    "\n",
    "def is_palindrome(s):\n",
    "    # Remove non-alphanumeric characters and convert to lowercase\n",
    "    cleaned_string = re.sub(r'[^A-Za-z0-9]', '', s).lower()\n",
    "    \n",
    "    # Check if cleaned string is equal to its reverse\n",
    "    return cleaned_string == cleaned_string[::-1]\n",
    "0\n",
    "# Take input from the user\n",
    "user_input = input(\"Enter a string: \")\n",
    "\n",
    "# Check if the input string is a palindrome\n",
    "if is_palindrome(user_input):\n",
    "    print(f'\"{user_input}\" is a palindrome.')\n",
    "else:\n",
    "    print(f'\"{user_input}\" is not a palindrome.')\n"
   ]
  },
  {
   "cell_type": "code",
   "execution_count": 17,
   "id": "b2bd8d81-6b3b-47c1-b3ad-4828ca1633ef",
   "metadata": {},
   "outputs": [
    {
     "name": "stdin",
     "output_type": "stream",
     "text": [
      "Enter a string:  dad\n"
     ]
    },
    {
     "name": "stdout",
     "output_type": "stream",
     "text": [
      "\"dad\" is a palindrome.\n"
     ]
    }
   ],
   "source": [
    "import re\n",
    "\n",
    "def is_palindrome(s):\n",
    "    # Remove non-alphanumeric characters and convert to lowercase\n",
    "    cleaned_string = re.sub(r'[^A-Za-z0-9]', '', s).lower()\n",
    "    \n",
    "    # Check if cleaned string is equal to its reverse\n",
    "    return cleaned_string == cleaned_string[::-1]\n",
    "0\n",
    "# Take input from the user\n",
    "user_input = input(\"Enter a string: \")\n",
    "\n",
    "# Check if the input string is a palindrome\n",
    "if is_palindrome(user_input):\n",
    "    print(f'\"{user_input}\" is a palindrome.')\n",
    "else:\n",
    "    print(f'\"{user_input}\" is not a palindrome.')\n"
   ]
  },
  {
   "cell_type": "code",
   "execution_count": null,
   "id": "5244849e-1131-4a97-942f-2f1a780a7f28",
   "metadata": {},
   "outputs": [],
   "source": []
  }
 ],
 "metadata": {
  "kernelspec": {
   "display_name": "Python 3 (ipykernel)",
   "language": "python",
   "name": "python3"
  },
  "language_info": {
   "codemirror_mode": {
    "name": "ipython",
    "version": 3
   },
   "file_extension": ".py",
   "mimetype": "text/x-python",
   "name": "python",
   "nbconvert_exporter": "python",
   "pygments_lexer": "ipython3",
   "version": "3.11.7"
  }
 },
 "nbformat": 4,
 "nbformat_minor": 5
}
